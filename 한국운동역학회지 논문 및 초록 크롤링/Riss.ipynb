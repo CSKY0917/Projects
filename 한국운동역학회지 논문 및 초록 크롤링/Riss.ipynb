{
 "cells": [
  {
   "cell_type": "markdown",
   "id": "674bde42-e912-49de-8ab2-003b59650d44",
   "metadata": {},
   "source": [
    "### riss 저널 크롤링 코드"
   ]
  },
  {
   "cell_type": "code",
   "execution_count": 47,
   "id": "d2e23d18-5d0b-4ca7-8b68-db7b7892211b",
   "metadata": {},
   "outputs": [],
   "source": [
    "import requests\n",
    "from bs4 import BeautifulSoup as bs\n",
    "import pandas as pd\n",
    "import time\n",
    "import matplotlib.pyplot as plt"
   ]
  },
  {
   "cell_type": "code",
   "execution_count": 48,
   "id": "992ef1e3-54f9-4263-80b8-3176e2bc5ac4",
   "metadata": {},
   "outputs": [],
   "source": [
    "# 논문 키워드와 편수를 입력하면 soup객체를 return하는 함수 정의\n",
    "def get_soup(keyword, num=100):\n",
    "\n",
    "    HEADERS= {'User-agent' : 'Mozilla/5.0 (Windows NT 10.0; Win64; x64) AppleWebKit/537.36 (KHTML, like Gecko) Chrome/104.0.0.0 Safari/537.36'}\n",
    "\n",
    "    url = f'https://riss.kr/search/Search.do?isDetailSearch=N&searchGubun=true&viewYn=OP&query={keyword}\\\n",
    "&queryText=&iStartCount=0&iGroupView=5&icate=all&colName=re_a_kor&exQuery=&exQueryText=&order=%2FDESC&onHanja=false&strSort=RANK&pageScale={num}\\\n",
    "&orderBy=&fsearchMethod=search&isFDetailSearch=N&sflag=1&searchQuery={keyword}&\\\n",
    "fsearchSort=&fsearchOrder=&limiterList=&limiterListText=&facetList=&facetListText=&fsearchDB=&resultKeyword={keyword}\\\n",
    "&pageNumber=1&p_year1=&p_year2=&dorg_storage=&mat_type=&mat_subtype=&fulltext_kind=&t_gubun=&learning_type=&language_code=&ccl_code=&language=&inside_outside=&fric_yn=&db_type=&image_yn=&regnm=&gubun=&kdc=&ttsUseYn='\n",
    "    result = requests.get(url, headers=HEADERS)\n",
    "\n",
    "    if result.status_code == 200:\n",
    "        print(\"OK\")\n",
    "        soup = bs(result.content, 'html.parser') #result.text\n",
    "\n",
    "    return soup\n"
   ]
  },
  {
   "cell_type": "code",
   "execution_count": 49,
   "id": "79a2e4b7-f4a9-402f-b9e9-760f2f3de5c5",
   "metadata": {},
   "outputs": [
    {
     "name": "stdout",
     "output_type": "stream",
     "text": [
      "OK\n"
     ]
    }
   ],
   "source": [
    "# 함수 호출\n",
    "soup = get_soup('한국운동역학회', 2121)\n"
   ]
  },
  {
   "cell_type": "markdown",
   "id": "da863bb9-e317-49ba-8e9b-3047e1b0dba5",
   "metadata": {},
   "source": [
    "#### riss 저널의 \"한국운동역학회\" 제목, 연도, 초록 크롤링"
   ]
  },
  {
   "cell_type": "code",
   "execution_count": 59,
   "id": "5c14727d-f999-48d1-aa3b-768b1cb80f02",
   "metadata": {},
   "outputs": [],
   "source": [
    "# soup를 넣으면 판다스 df를 return하는 함수 정의\n",
    "def get_riss_df(soup):\n",
    "\n",
    "    contents = soup.find_all('div', class_= 'cont ml60')\n",
    "\n",
    "    title = []\n",
    "    year = []\n",
    "    journal = []\n",
    "    abstracts = []\n",
    "\n",
    "    for cont in contents :\n",
    "        title.append(cont.find('p', class_='title').text)\n",
    "        year.append(cont.find('p', class_='etc').find_all('span')[2].text)\n",
    "        journal.append(cont.find('p', class_='etc').find_all('span')[3].text)\n",
    "        abstracts.append(cont.find('p', class_='preAbstract').text)\n",
    "\n",
    "        if cont.find('p', class_='preAbstract'):\n",
    "            abstracts.append(cont.find('p', class_='preAbstract').text)\n",
    "        else :\n",
    "            abstracts.append('초록이 없습니다.')\n",
    "\n",
    "    df = pd.DataFrame(\n",
    "        {'title' : title,\n",
    "         'year' : year,\n",
    "         'journal': journal,\n",
    "         'abstracts': abstracts})\n",
    "\n",
    "    return df"
   ]
  },
  {
   "cell_type": "code",
   "execution_count": 60,
   "id": "6fb817ae-c58e-42ee-bd47-9a12347d5eba",
   "metadata": {},
   "outputs": [
    {
     "data": {
      "text/html": [
       "<div>\n",
       "<style scoped>\n",
       "    .dataframe tbody tr th:only-of-type {\n",
       "        vertical-align: middle;\n",
       "    }\n",
       "\n",
       "    .dataframe tbody tr th {\n",
       "        vertical-align: top;\n",
       "    }\n",
       "\n",
       "    .dataframe thead th {\n",
       "        text-align: right;\n",
       "    }\n",
       "</style>\n",
       "<table border=\"1\" class=\"dataframe\">\n",
       "  <thead>\n",
       "    <tr style=\"text-align: right;\">\n",
       "      <th></th>\n",
       "      <th>title</th>\n",
       "      <th>year</th>\n",
       "      <th>journal</th>\n",
       "      <th>abstracts</th>\n",
       "    </tr>\n",
       "  </thead>\n",
       "  <tbody>\n",
       "    <tr>\n",
       "      <th>0</th>\n",
       "      <td>스포츠산업과 운동역학 : 한국운동역학회 현황과 과제(1)</td>\n",
       "      <td>2005</td>\n",
       "      <td>한국운동역학회 추계학술발표논문집</td>\n",
       "      <td>초록이 없습니다.</td>\n",
       "    </tr>\n",
       "    <tr>\n",
       "      <th>1</th>\n",
       "      <td>한국운동역학회의 야긴과 보아스!</td>\n",
       "      <td>2009</td>\n",
       "      <td>한국운동역학회지</td>\n",
       "      <td>초록이 없습니다.</td>\n",
       "    </tr>\n",
       "    <tr>\n",
       "      <th>2</th>\n",
       "      <td>한국운동역학회 현황과 발전방향 과제(1)</td>\n",
       "      <td>2006</td>\n",
       "      <td>한국운동역학회지</td>\n",
       "      <td>초록이 없습니다.</td>\n",
       "    </tr>\n",
       "    <tr>\n",
       "      <th>3</th>\n",
       "      <td>한국운동역학의 초석이신 선배님께</td>\n",
       "      <td>2009</td>\n",
       "      <td>한국운동역학회지</td>\n",
       "      <td>초록이 없습니다.</td>\n",
       "    </tr>\n",
       "    <tr>\n",
       "      <th>4</th>\n",
       "      <td>한국운동역학회지의 국제화와 SCI-E 등재 방안</td>\n",
       "      <td>2010</td>\n",
       "      <td>한국운동역학회지</td>\n",
       "      <td>Korean Journal of Sport Biomechanics(KJSB) is ...</td>\n",
       "    </tr>\n",
       "    <tr>\n",
       "      <th>...</th>\n",
       "      <td>...</td>\n",
       "      <td>...</td>\n",
       "      <td>...</td>\n",
       "      <td>...</td>\n",
       "    </tr>\n",
       "    <tr>\n",
       "      <th>2116</th>\n",
       "      <td>Gait Pattern of Hemiplegic Patients with Swimm...</td>\n",
       "      <td>2019</td>\n",
       "      <td>한국운동역학회지</td>\n",
       "      <td>Objective: The purpose of this study was to in...</td>\n",
       "    </tr>\n",
       "    <tr>\n",
       "      <th>2117</th>\n",
       "      <td>Effect of Wearing Ankle Weights on Underwater ...</td>\n",
       "      <td>2019</td>\n",
       "      <td>한국운동역학회지</td>\n",
       "      <td>Objective: The main purpose of this study was ...</td>\n",
       "    </tr>\n",
       "    <tr>\n",
       "      <th>2118</th>\n",
       "      <td>Age-related Changes in Multi-finger Synergy du...</td>\n",
       "      <td>2016</td>\n",
       "      <td>한국운동역학회지</td>\n",
       "      <td>Objective: The aim of this study was to invest...</td>\n",
       "    </tr>\n",
       "    <tr>\n",
       "      <th>2119</th>\n",
       "      <td>초등체육에서 운동역학의 현실과 연구 활성화 방안</td>\n",
       "      <td>2016</td>\n",
       "      <td>한국초등체육학회지</td>\n",
       "      <td>체육학에서 운동역학 및 초등체육 관련 운동역학 연구의 현실과 문제점을 알아보고 활성...</td>\n",
       "    </tr>\n",
       "    <tr>\n",
       "      <th>2120</th>\n",
       "      <td>국내 합기도 연구 동향과 향후 연구방향에 대한 고찰 : 태권도의 사례를 중심으로</td>\n",
       "      <td>2013</td>\n",
       "      <td>대한태권도과학연구소 논문집</td>\n",
       "      <td>본연구는 국내 합기도의 연구동향을 분석하고 태권도의 사례로 합기도의 발전방향을 제시...</td>\n",
       "    </tr>\n",
       "  </tbody>\n",
       "</table>\n",
       "<p>2121 rows × 4 columns</p>\n",
       "</div>"
      ],
      "text/plain": [
       "                                                  title  year  \\\n",
       "0                       스포츠산업과 운동역학 : 한국운동역학회 현황과 과제(1)  2005   \n",
       "1                                     한국운동역학회의 야긴과 보아스!  2009   \n",
       "2                                한국운동역학회 현황과 발전방향 과제(1)  2006   \n",
       "3                                     한국운동역학의 초석이신 선배님께  2009   \n",
       "4                            한국운동역학회지의 국제화와 SCI-E 등재 방안  2010   \n",
       "...                                                 ...   ...   \n",
       "2116  Gait Pattern of Hemiplegic Patients with Swimm...  2019   \n",
       "2117  Effect of Wearing Ankle Weights on Underwater ...  2019   \n",
       "2118  Age-related Changes in Multi-finger Synergy du...  2016   \n",
       "2119                         초등체육에서 운동역학의 현실과 연구 활성화 방안  2016   \n",
       "2120       국내 합기도 연구 동향과 향후 연구방향에 대한 고찰 : 태권도의 사례를 중심으로  2013   \n",
       "\n",
       "                journal                                          abstracts  \n",
       "0     한국운동역학회 추계학술발표논문집                                          초록이 없습니다.  \n",
       "1              한국운동역학회지                                          초록이 없습니다.  \n",
       "2              한국운동역학회지                                          초록이 없습니다.  \n",
       "3              한국운동역학회지                                          초록이 없습니다.  \n",
       "4              한국운동역학회지  Korean Journal of Sport Biomechanics(KJSB) is ...  \n",
       "...                 ...                                                ...  \n",
       "2116           한국운동역학회지  Objective: The purpose of this study was to in...  \n",
       "2117           한국운동역학회지  Objective: The main purpose of this study was ...  \n",
       "2118           한국운동역학회지  Objective: The aim of this study was to invest...  \n",
       "2119          한국초등체육학회지  체육학에서 운동역학 및 초등체육 관련 운동역학 연구의 현실과 문제점을 알아보고 활성...  \n",
       "2120     대한태권도과학연구소 논문집  본연구는 국내 합기도의 연구동향을 분석하고 태권도의 사례로 합기도의 발전방향을 제시...  \n",
       "\n",
       "[2121 rows x 4 columns]"
      ]
     },
     "execution_count": 60,
     "metadata": {},
     "output_type": "execute_result"
    }
   ],
   "source": [
    "df = get_riss_df(soup)\n",
    "df"
   ]
  },
  {
   "cell_type": "code",
   "execution_count": 61,
   "id": "f71f85c8-e8f8-4303-be84-20bf0b683454",
   "metadata": {},
   "outputs": [
    {
     "data": {
      "text/plain": [
       "journal\n",
       "한국운동역학회지             1657\n",
       "한국운동역학회 논문 영문초록집      370\n",
       "한국운동역학회 춘계학술발표논문집      60\n",
       "한국운동역학회 추계학술발표논문집      32\n",
       "한국초등체육학회지               1\n",
       "대한태권도과학연구소 논문집          1\n",
       "Name: count, dtype: int64"
      ]
     },
     "execution_count": 61,
     "metadata": {},
     "output_type": "execute_result"
    }
   ],
   "source": [
    "df['journal'].value_counts()"
   ]
  },
  {
   "cell_type": "markdown",
   "id": "15f189ba-96b3-44a3-886f-6c4befa628bf",
   "metadata": {},
   "source": [
    "* 한국운동역학회가 아닌 한국초등체육학회지 / 대한태권도과학연구소 논문집은 삭제"
   ]
  },
  {
   "cell_type": "code",
   "execution_count": 62,
   "id": "28c68301-c940-42f7-b002-b827d3b839c8",
   "metadata": {},
   "outputs": [
    {
     "data": {
      "text/html": [
       "<div>\n",
       "<style scoped>\n",
       "    .dataframe tbody tr th:only-of-type {\n",
       "        vertical-align: middle;\n",
       "    }\n",
       "\n",
       "    .dataframe tbody tr th {\n",
       "        vertical-align: top;\n",
       "    }\n",
       "\n",
       "    .dataframe thead th {\n",
       "        text-align: right;\n",
       "    }\n",
       "</style>\n",
       "<table border=\"1\" class=\"dataframe\">\n",
       "  <thead>\n",
       "    <tr style=\"text-align: right;\">\n",
       "      <th></th>\n",
       "      <th>title</th>\n",
       "      <th>year</th>\n",
       "      <th>journal</th>\n",
       "      <th>abstracts</th>\n",
       "    </tr>\n",
       "  </thead>\n",
       "  <tbody>\n",
       "    <tr>\n",
       "      <th>2119</th>\n",
       "      <td>초등체육에서 운동역학의 현실과 연구 활성화 방안</td>\n",
       "      <td>2016</td>\n",
       "      <td>한국초등체육학회지</td>\n",
       "      <td>체육학에서 운동역학 및 초등체육 관련 운동역학 연구의 현실과 문제점을 알아보고 활성...</td>\n",
       "    </tr>\n",
       "  </tbody>\n",
       "</table>\n",
       "</div>"
      ],
      "text/plain": [
       "                           title  year    journal  \\\n",
       "2119  초등체육에서 운동역학의 현실과 연구 활성화 방안  2016  한국초등체육학회지   \n",
       "\n",
       "                                              abstracts  \n",
       "2119  체육학에서 운동역학 및 초등체육 관련 운동역학 연구의 현실과 문제점을 알아보고 활성...  "
      ]
     },
     "execution_count": 62,
     "metadata": {},
     "output_type": "execute_result"
    }
   ],
   "source": [
    "df[df['journal'] == \"한국초등체육학회지\"]"
   ]
  },
  {
   "cell_type": "code",
   "execution_count": 63,
   "id": "20cb56ca-6c24-4c91-86a1-d6fbefc34f3e",
   "metadata": {},
   "outputs": [
    {
     "data": {
      "text/html": [
       "<div>\n",
       "<style scoped>\n",
       "    .dataframe tbody tr th:only-of-type {\n",
       "        vertical-align: middle;\n",
       "    }\n",
       "\n",
       "    .dataframe tbody tr th {\n",
       "        vertical-align: top;\n",
       "    }\n",
       "\n",
       "    .dataframe thead th {\n",
       "        text-align: right;\n",
       "    }\n",
       "</style>\n",
       "<table border=\"1\" class=\"dataframe\">\n",
       "  <thead>\n",
       "    <tr style=\"text-align: right;\">\n",
       "      <th></th>\n",
       "      <th>title</th>\n",
       "      <th>year</th>\n",
       "      <th>journal</th>\n",
       "      <th>abstracts</th>\n",
       "    </tr>\n",
       "  </thead>\n",
       "  <tbody>\n",
       "    <tr>\n",
       "      <th>2120</th>\n",
       "      <td>국내 합기도 연구 동향과 향후 연구방향에 대한 고찰 : 태권도의 사례를 중심으로</td>\n",
       "      <td>2013</td>\n",
       "      <td>대한태권도과학연구소 논문집</td>\n",
       "      <td>본연구는 국내 합기도의 연구동향을 분석하고 태권도의 사례로 합기도의 발전방향을 제시...</td>\n",
       "    </tr>\n",
       "  </tbody>\n",
       "</table>\n",
       "</div>"
      ],
      "text/plain": [
       "                                             title  year         journal  \\\n",
       "2120  국내 합기도 연구 동향과 향후 연구방향에 대한 고찰 : 태권도의 사례를 중심으로  2013  대한태권도과학연구소 논문집   \n",
       "\n",
       "                                              abstracts  \n",
       "2120  본연구는 국내 합기도의 연구동향을 분석하고 태권도의 사례로 합기도의 발전방향을 제시...  "
      ]
     },
     "execution_count": 63,
     "metadata": {},
     "output_type": "execute_result"
    }
   ],
   "source": [
    "df[df['journal'] == \"대한태권도과학연구소 논문집\"]"
   ]
  },
  {
   "cell_type": "code",
   "execution_count": 64,
   "id": "1688c8e3-3c0e-4af6-9ff7-3d31df59af4c",
   "metadata": {},
   "outputs": [],
   "source": [
    "df = df.drop([2119,2120])"
   ]
  },
  {
   "cell_type": "code",
   "execution_count": 65,
   "id": "3b845408-0f37-41d0-9f7f-849bf1c2a491",
   "metadata": {},
   "outputs": [
    {
     "data": {
      "text/plain": [
       "journal\n",
       "한국운동역학회지             1657\n",
       "한국운동역학회 논문 영문초록집      370\n",
       "한국운동역학회 춘계학술발표논문집      60\n",
       "한국운동역학회 추계학술발표논문집      32\n",
       "Name: count, dtype: int64"
      ]
     },
     "execution_count": 65,
     "metadata": {},
     "output_type": "execute_result"
    }
   ],
   "source": [
    "df['journal'].value_counts()"
   ]
  },
  {
   "cell_type": "markdown",
   "id": "7e05c991-f80c-4892-9a60-a229db12f04c",
   "metadata": {},
   "source": [
    "* 제목의 중복을 제거"
   ]
  },
  {
   "cell_type": "code",
   "execution_count": 66,
   "id": "4adc3a9b-c41a-4959-a3c3-cb4ab211eb87",
   "metadata": {},
   "outputs": [
    {
     "data": {
      "text/plain": [
       "title\n",
       "Qualitative Analysis of Pressure Intensity and Center of Pressure Trajectory According to Shoe Type                                                      3\n",
       "Effects of Rhythmic Hop on Response Times and Kicking Velocities of Taekwondo Kicks                                                                      3\n",
       "The Effects of Shoe Type on Ground Reaction Force                                                                                                        3\n",
       "Effects of Water Exercise on the Foot Pressure Distribution of a Female Adult with Hemiplegia: A Biomechanical Case Study                                3\n",
       "The Immediate Effects of Five-Toed Shoes on Foot Structure                                                                                               2\n",
       "Validity of a Portable APDM Inertial Sensor System for Stride Time and Stride Length during Treadmill Walking                                            2\n",
       "노인 보행 시 하지 근 활동 양상과 관절의 안정성이 낙상에 미치는 영향 -전향적 연구(Prospective Study)-                                                                                      2\n",
       "보행 시 인간 장애물의 동적 · 정적 상태에 따른 충돌회피전략                                                                                                                       2\n",
       "Effect of Kinetic Degrees of Freedom on Hierarchical Organization of Multi-element Synergies during Force Production and Releasing Tasks                 2\n",
       "달리기 시 충격력과 충격 쇼크 변인들과의 관계                                                                                                                                2\n",
       "Evaluation of Biomechanical Movements and Injury Risk Factors in Weight Lifting (Snatch)                                                                 2\n",
       "Analysis of Postural Stability in Response to External Perturbation Intensity in Dancers and Non-dancers                                                 2\n",
       "Biomechanical Analysis of Muscle Fatigue and Ground Reaction Force for the Development of Outdoor Walking Shoes                                          2\n",
       "Analysis of Lower Extremity Joint Moment and Power during Squat in Female Patients with Genu Varum                                                       2\n",
       "The Effect of Gaze Angle on Muscle Activity and Kinematic Variables during Treadmill Walking                                                             2\n",
       "Analysis of Changes in Stride Length, Time, and Electromyography Finding Depending on Athletic Crouch Start Method                                       2\n",
       "A Statistical Model for Marker Position in Biomechanics                                                                                                  2\n",
       "50세 이상 성인의 보행 시 스마트폰 사용에 따른 자세 조절 전략                                                                                                                     2\n",
       "Effects of Bat Type on the Swing Motion of High School Baseball Athletes                                                                                 2\n",
       "Inference on the Joint Center of Rotation by Covariance Pattern Models                                                                                   2\n",
       "Effect of 12-week Exercise Programs for Posture Correction on Standing Postural Alignment in Elderly Women                                               2\n",
       "Kinematic Analysis of the Technique for 500-m Speed Skaters in Curving                                                                                   2\n",
       "Performance Analysis of Men's 110-m Hurdles using Rhythmic Units                                                                                         2\n",
       "Analysis of the Plantar Pressure on the Flat and Slope Walking by Insole Type                                                                            2\n",
       "Relationship between the Impact Peak Force and Lower Extremity Kinematics during Treadmill Running                                                       2\n",
       "Analysis of contracting human skeletal muscles by ultrasound                                                                                             2\n",
       "만성 발목 불안정성(CAI) 환자와 건강 대조군 간의 발목 관절 복합체 구조적 특징과 목말밑 관절 회전 축 기울기                                                                                          2\n",
       "Effect of Wearing Ankle Weights on Underwater Treadmill Walking                                                                                          2\n",
       "Effects of Customized 3D-printed Insoles on the Kinematics of Flat-footed Walking and Running                                                            2\n",
       "Effects of Self Myofascial Release, Elastic Band, and Stretching Exercises on Lower Extremity Alignment and Gait in Female Genu Varum                    2\n",
       "Influence of Anticipation on Landing Patterns during Side-Cutting Maneuver in Female Collegiate Soccer Players                                           2\n",
       "Trend Analysis of Exercise Content on the Rings Final in the 1st Youth Olympic Games                                                                     2\n",
       "Effects of Taekwondo and Walking Exercises on the Double-Leg Balance Control of Elderly Females                                                          2\n",
       "The Effect of Different Warm-up Procedures on Bat Speed in Baseball                                                                                      2\n",
       "Kinematics and Kinetics of the Lower Limbs of a Walking Shoe with a Plate Spring and Cushioning Elements in the Heel during Walking                      2\n",
       "Kinematic Comparative Analysis of Short Turns between Skilled and Unskilled Alpine Skiers                                                                2\n",
       "달리기 속도 증가에 따른 성별 CoP (Center of Pressure)의 복잡성 패턴                                                                                                        2\n",
       "달리기 시 발의 인체측정학적 변인과 운동역학적 변인의 관계                                                                                                                         2\n",
       "드롭랜딩 동작 시 다운증후군 아동들의 수직 강성과 하지 운동학적 특성                                                                                                                   2\n",
       "노인 러너의 신체특성과 하지관절의 생체역학적 비교                                                                                                                              2\n",
       "손 끝 온도변화가 젊은 성인의 다중 손가락 동작에 미치는 효과                                                                                                                       2\n",
       "역도 인상동작 불안정성 수준에 따른 발바닥 체성감각요인 분석                                                                                                                        2\n",
       "Kinematic Comparative Analysis of Long Turns between Experienced and Inexperienced Ski Instructors                                                       2\n",
       "골프스윙 시 지면반력 크기와 시간 차이가 클럽헤드 속도에 미치는 영향                                                                                                                   2\n",
       "태권도 자유 품새에 적용하기 위한 뛰어 앞차기 착지 동작의 상해 예방 전략                                                                                                                2\n",
       "만성요통환자를 대상으로 운동치료 및 물리치료가 통증에 미치는 효과에 대한 메타분석                                                                                                            2\n",
       "수중걷기운동이 여성노인의 보행 및 평형능력에 미치는 영향                                                                                                                          2\n",
       "한국형 파킨슨 환자의 역학적 기능수행지수 개발                                                                                                                                2\n",
       "발바닥 체성 감각 저하에 따른 만성 발목 불안정성 환자군과 정상인 군의 Y-balance Test 능력에 미치는 효과                                                                                        2\n",
       "The Effect of Lower Extremity Plyometric Training on the Proprioception and Postural Stability of Collegiate Soccer Players with Postural Instability    2\n",
       "Name: count, dtype: int64"
      ]
     },
     "execution_count": 66,
     "metadata": {},
     "output_type": "execute_result"
    }
   ],
   "source": [
    "df[df.duplicated(keep=False)]['title'].value_counts()"
   ]
  },
  {
   "cell_type": "code",
   "execution_count": 67,
   "id": "fcef0fad-b35a-43f1-9d65-02cc29054264",
   "metadata": {},
   "outputs": [],
   "source": [
    "df = df.drop_duplicates(['title'])"
   ]
  },
  {
   "cell_type": "markdown",
   "id": "1e1e4056-acba-4f12-b29b-b891d8b14ddb",
   "metadata": {},
   "source": [
    "* 초록의 중복을 제거"
   ]
  },
  {
   "cell_type": "code",
   "execution_count": 72,
   "id": "b7deda11-dfeb-4acd-a898-11ef00786a3b",
   "metadata": {},
   "outputs": [
    {
     "data": {
      "text/plain": [
       "abstracts\n",
       "초록이 없습니다.                                                                                                                                                                                                                                                                                                                                                                                                                                                                                                                                                                                                                                                                                                                                                                                                                                                                                                                                                                                                                                                                                                                                                                                                                                                                                                                                                                                                                                                                                                                                                                                                                                                                                                                                                                                                                                                                                                                                                                                                                                                                                                                                                                                                                                                                                                                                   875\n",
       "Objective: The purpose of this study was to investigate the effect of transcutaneous electrical nerve stimulation (TENS) treatment on maximum voluntary force (MVF) production. Methods: Ten healthy, young subjects (5 males and 5 females) participated in the study. MVF was recorded after a fifteen minute session of TENS stimulation under two conditions: low frequency (4 Hz) at maximum tolerable level and high frequency (110 Hz) at maximum tolerable level. TENS was provided simultaneously via self-adhesive electrodes placed on the finger pads of the index, middle, ring and little fingers. MVF was also recorded in a baseline condition with no TENS treatment. Data were collected in three different sessions on three consecutive days at the sametime of the day. Results: Results from the study show that on an average, MVF increasesby 25% for the index, middle and little fingers for TENS treatment with 4 Hz frequency as compared to the baseline condition. However, the 110 Hz condition did not result in a significantly different MVF than the baseline condition during individual finger pressing tasks. In addition, while producing MVF with all the four finger stogether, MVF was 30% higher for the 4 Hz conditionin comparison to the baseline condition, and 15% higher for the 110 Hz condition in comparison to the baseline condition respectively. Conclusion: The results suggest that stimulation ofafferent fibers onthe glabrous skinwith TENS could have a net facilitatory effect on the maximum motoroutput.                                                                                                                                                                                                                                                                                                                                                                                                                                                                                                                                                                                                                                                                                                                                                                     2\n",
       "Objective: The incidence rate of elbow ulnar collateral ligament injuries is dependent on the throwing speed or pitching type, especially in adolescent baseball players. However, mixed results have been reported due to a lack of controlled biomechanical analysis. Thus, the purpose of this study was to investigate the biomechanical analysis of the elbow in relation to throwing speed and pitching type.\\nMethod: Four overhead type high-school baseball players were recruited for this study. The participants were asked to throw balls with different types of pitch and speed. While the throwing speeds were measured, each pitching moment of the elbow was recorded. Descriptive statistics, frequency analysis, mean comparison analysis, and Pearson's correlation analysis were performed in order to examine differences in peak varus and valgus moment during pitching motion in the elbow in all throwing speed and pitching types.\\nResults: There was no significant difference in physical characteristics, throwing speed, and momentum variability among all players. The mean varus moments were 44.38±1.55 Nm, 48.83±1.66 Nm, and 48.94±0.95 Nm, and the moment gaps between varus and valgus were 7.36±3.25 Nm, 7.44±2.02 Nm, and 7.36±2.62 Nm in fastball, curveball, and slider ball, respectively. The varus moment was higher in the curved and slider balls than in the fastballs, and there was no significant differences between the varus moments regarding the pitching type. However, the increase in valgus moment and decrease in moment gap according to throwing speed was significantly increased in the slider ball (r=0.718 and -0.591, respectively).\\nConclusion: The possibility of elbow injury caused by the valgus moment or moment gap increases more rapidly in slider balls as the speed increases. Based on our results, appropriate pitching guidelines should be suggested to prevent ulnar ligament injuries, especially in adolescent baseball players.                                                                                                                                                                                                                                                                                                                    2\n",
       "Objective: The purpose of this study was to investigate plantar foot pressure and static balance according to the type of insole in the elderly.\\nMethods: Thirteen elderly (mean age: 67.08±2.25 years, mean height: 159.63±9.64 cm, mean body weight: 61.48±9.06 kg) who had no previous injury experience in the lower limbs and a normal gait pattern participated in this study. Three models of insoles of the normal, 3D, and triangle types were selected for the test. The Pedar-X system and Pedar-X insoles, 3.3 km/h of walking speed, and a compilation of 20 steps walking stages were used to analyze foot-pressure distribution. Static balance test was conducted using Gaitview AFA-50, and balance (opening eyes, closing eyes) was inspected for 20 s. One-way ANOVA was conducted to test the significance of the results with the three insoles. P-value of less than .05 was considered statistically significant.\\nResults: The mean foot pressure under the forefoot regions was the lowest with the 3D insole during treadmill walking (p<.05). The mean value under the midfoot was the highest with the 3D insole (left: p<.05, right: p<.01). The mean value under the rearfoot was the lowest with the 3D insole (p<.001). The maximum foot pressure value under the foot regions was the lowest on both sides of the forefoot with the 3D insole. A statistically significant difference was seen only in the left foot (p<.01). The maximum value under the midfoot was the highest with the 3D insole (p<.001). No statistically significant difference was detected on the values under the rearfoot. In the case of vertical ground reaction force (GRF), statistically significant difference was seen only in the left side rearfoot (p<.01). However, static balance values (ENV, REC, RMS, Total Length, Sway velocity, and Length/ENV) did not show significant differences by the type of insole.\\nConclusion: These results show that functional insoles can decrease plantar pressure and GRF under the forefoot and rearfoot. Moreover, functional insoles can dislodge the overload of the rearfoot and forefoot to the midfoot. However, functional insoles do not affect the static balance in the elderly.                                                                                    1\n",
       "Objective: The purpose of this study was to identify kinematic variables that govern successful performance and judges' scores and to establish correlative relationships among those of Yurchenko layout with a full twist in female vaults.\\nMethod: Four video cameras with sampling rate of 60 Hz collected 32 motion data of Yurchenko vaults from twenty-two female participants (age: 18.6 ± 3.6 years, height: 153.0 ± 6.5 cm, mass: 44.7 ± 7.3 kg) during national competition. Posting processing and calculations of kinematic variables were performed in Kwon 3D XP and Matlab® programs. Correlation and regression analyses were applied to find the relationships between the obtained scores and kinematic variables. Deterministic model (Hay & Reid, 1988) was used to investigate the strength of correlative relationships among kinematic variables.\\nResults: The obtained scores from the judges' decision were mainly affected by post-flight peak height, horse contact time, knee angle at landing, and horse takeoff angle. Strong blocking during horse contact was required to get successful performance and obtain high scores. Modified deterministic model showed that round-off entrance and takeoff angles and resultant velocity of the center of mass (CM) during the roundoff phase were the starting variables affecting performance in the following kinematics. Knee angle at landing, a highly influential variable on the obtained point, was only determined by judges' decision without significant correlative relationship with previous kinematic variables.\\nConclusion: The obtained scores highly depended on kinematic variables of post-flight and horse contact phases that were affected by those from the previous phases including round-off postures and resultant velocity of the body center of mass.                                                                                                                                                                                                                                                                                                                                                                                                                                                                            1\n",
       "                                                                                                                                                                                                                                                                                                                                                                                                                                                                                                                                                                                                                                                                                                                                                                                                                                                                                                                                                                                                                                                                                                                                                                                                                                                                                                                                                                                                                                                                                                                                                                                                                                                                                                                                                                                                                                                                                                                                                                                                                                                                                                                                                                                                                                                                                                                                           ... \n",
       "Objective: The purpose of this study was to compare the physical characteristics (bone mineral density, joint muscle strength) and running biomechanics between older adults and young adult runners to understand the changes of running strategy by aging. Method: Bone mineral density (Dual Energy X-ray Absorptiometry, USA) of lower lower extremity and muscle strength (Cybex Humac Norm [DEXA], CSMI, USA) were measured to identify the physical characteristics of 10 elderly (age: $67.70{\\pm}3.30yrs$, height: $1.68{\\pm}0.04m$, mass: $67.70{\\pm}3.80kg$) and 10 young adults (age: $21.20{\\pm}0.42yrs$, height: $1.73{\\pm}0.06m$, mass: $72.11{\\pm}4.15kg$). Running data was collected by using an instrumented treadmill (Bertec, USA) and 7 infrared cameras (Oqus 300, Qualisys, Sweden). Two-way repeated ANOVA analysis was used to analyze results at a significant level of .05 with Bonferroni post hoc analysis. Results: Compared to the young adult group, the elderly group showed statistically significant difference in physical characteristics and in running characteristics. Elderly runners showed lower BMD and muscle strength compared with young runners (p<.05). In the running parameters, elderly runners tend to show shorter contact time and stride length compared with young runners (p<.05). In the joint angles, elderly runners showed smaller range of ankle motion compared with young runners (p<.05). Finally, elderly runners showed lower level of joint moment, joint power, and GRF compared with young runners in each running speed (p<.05). Conclusion: The running behavior of the elderly performed periodic running was similar to many variables of young adults. However, there were noticeable differences found in the ankle joints and most kinetic variables compared with young adult runners. This discrepancy may propose that elderly runners should consider appropriate running distance and intensity in the program.                                                                                                                                                                                                                                                                                                                                           1\n",
       "Objective: This study examined the effects of stimulating fingertip temperature on the patterns of force sharing and stability properties during multi-finger force production tasks. Method: 9 adult subjects (male: 3, female: 6, age: $26.11{\\pm}4.01yrs$, height: $169.22{\\pm}5.97cm$, weight: $61.44{\\pm}11.27kg$) participated in this study. The experiment consisted of three blocks: 1) maximal voluntary contraction (MVC) task, 2) single-finger ramp task to quantify enslaving (i.e., unintended force production by non-task fingers), and 3) 12 trials of multi-finger steady-state force production task at 20% MVC. There were three temperature conditions including body-temperature (i.e., control condition), $40^{\\circ}C$, and $43^{\\circ}C$, and the stimulation was given to the index finger only for all experimental conditions. Results: There were no significant differences in the MVC forces, enslaving, and the accuracy of performance during the steady-state task between the conditions. However, the share of stimulated index finger force increased with the index fingertip temperature, while the share of middle finger force decreased. Also, the coefficient of variation of both index and middle finger forces over repetitive trials increased with the index fingertip temperature. Under the framework of the uncontrolled manifold (UCM) hypothesis used to quantify indices of multi-finger synergies (i.e., stability property) stabilizing total force during the steady-state task, the two variance components within the UCM analysis increased together with the fingertip temperature, while no changes in the synergy indices between the conditions. Conclusion: The current results showed that fingertip temperature stimulation only to index finger does not affect to muscle force production capability of multi-finger, independence of individual fingers, and force production accuracy by the involvement of all four fingers. The effect of fingertip temperature on the sharing pattern and force variation may be due to diffuse reflex effects of the induced afferent activity on alpha-motoneuronal pools. However, the unchanged stability properties may be the reflection of the active error compensation strategies by non-stimulated finger actions.      1\n",
       "Objective: The aim of this study was to investigate the effect of midsole hardness of running shoe on muscle fatigue and impact force during distance running. Method: Ten healthy college recreational runners who were performing distance running at least three times a week participated in this experiment. They were asked to run for 15 minutes in the treadmill at 10 km/h with running shoes having three different types of midsole hardness (Soft, Medium, Hard). EMG signal and insole pressure were collected during the first and last one minute for each running trials. Data were analyzed using a one-way analysis of variance (ANOVA) with repeated measures. Results: Midsole hardness did not affect the consistency of stride length. For the median frequency of the EMG signal, only VL was affected by midsole hardness; that of medium was greater than other midsoles (p<.05). The loading rate of impact forces increased by midsole hardness (p<.01). Conclusion: Although soft midsole could attenuate impact forces at heel contact, it might have a negative effect on the fatigue of muscle which could decelerate the body after heel contact. Therefore, it is necessary to select the optimum hardness of midsole carefully for both reduction impact forces and muscle fatigue.                                                                                                                                                                                                                                                                                                                                                                                                                                                                                                                                                                                                                                                                                                                                                                                                                                                                                                                                                                                                                         1\n",
       "Objective: It is to find factors related to stability through analysis of plantar pressure factors according to the level of instability when performing Snatch.\\nMethod: Foot pressure analysis was performed while 10 weightlifters performed 80% of the highest level of Snatch, and motion was classified and analyzed in 3 grades according to the level of instability.\\nResults: First, in Bad Motion, the movement distance of the pressure center in the direction of ML and AP was larger significantly in Phase 2. Second, in Phase 2, the number of zero-crossing in the AP direction was larger statistically significantly in Good Motion. Third, in the bad motion in Phase 3, the number of zero-crossing in the ML direction showed a significantly larger value. Fourth, in Phase 4, it was found that the more stable the lock out motion, the greater the activity of foot controlling in the left and right directions. Fifth, Phase 3, the greater the Maximum/Mean foot pressure value, the more stable the pulling action. Sixth, in Phase 2, the foot pressure was concentrated with a wide distribution in the midfoot and rearfoot. Seventh, the triggering number of the forefoot region was small in the last pull phase. Eighth, the number of triggers in the toe area was significantly higher during Good Motion in Phase 4.\\nConclusion: Summarizing the factors of instability in Snatch, there was no significant difference in Phase 1 for each condition. In order to enhance the stability in Phase 2, the sensory control ability in the AP direction is required, and focusing the foot pressing motion with a wide distribution in the middle and rear parts increases the instability. In Phase 3, it was found that the more unstable, the more sensory control activity was performed in the ML direction, the stronger the forefoot pressing action should be performed for a stable Snatch. In Phase 4, It is important that the feet sensory control activity in ML directions and the control ability of the toes in order to have stable Lock out motion.                                                                                                                                                                                                                                   1\n",
       "이 연구의 목적은 각 분절의 마커세트와 무릎관절 중심 정의가 3차원 무릎 관절각을 산출하는데 얼마나 민감하게 영향을 미치는지를 연구하였다. 자료수집은 1명을 실험대상자로 하여 두 가지 형태의 각기 다른 분절의 정의와 무릎관절의 중심을 나타내는 반사마커들을 동시에 오른쪽 하지에 부착시켜 실험을 실시하였다. 실험대상자의 달리기동작 중 좌측으로 45도 방향전환동작의 지지기를 분석하였다. 이를 위해서 8대의 고속카메라들을 이용하였고 달리기속도는 4m/$sec{\\pm}(10%)$로 통제하였다. 하지분절의 발분절에는 하나의 마커세트를, 정강이와 대퇴분절에는 두 가지의 다른 마커세트들을 부착시켰다. 발분절에는 3개의 마커를 신발의 뒷부분에 부착하였고 정강이분절을 정의하기 위하여 첫 번째 마커세트는 경골을 중심으로 3개의 마커들을 두 번째 마커세트는 비골을 중심으로 3개의 마커를 부착하였다. 대퇴분절의 마커세트를 정의하기 위하여 첫 번째 마커세트에는 대퇴골을 중심으로 3개의 마커를 두 번째 마커세트에는 대퇴근육을 중심으로 3개의 마커들을 부착하였다. 무릎관절중심을 정의하는데 두 가지 다른 정의가 적용되었다. 첫 번째 무릎중심을 무릎의 내측과 외측의 마커들을 통해 두 마커의 중심을 무릎관절의 중심으로 정의하였다. 두 번째 무릎중심정의는 무릎의 외측부분과 슬개골의 중심에 부착된 마커들로부터의 교차점을 무릎관절중심으로 산출하였다. 무릎관절의 각도를 산출하기 위해서 JCS(Joint Coordinate System)의 정의가 적용되었고 연구의 결과는 다음과 같았다. 두 가지의 다른 분절마커세트 사이에서 무릎의 신전(extension)과 굴곡(flexion)은 유사한 형태를 나타냈으며 최대 무릎굴곡(peak knee flexion)각에서 $4.746^{\\circ}$의 차이를 나타냈다. 다른 분절마커세트 사이의 회전(rotation)각과 내전(adduction)/외전(abduction)에서는 서로 다른 형태를 나타내었고, 두 마커세트간 최대무릎외측회전(peak knee external rotation)각도에서는 $15.628^{\\circ}$의 차이를 나타냈다. 또한, 각 분절마커세트 내에서 두 가지의 다른 무릎관절 중심의 정의가 얼마나 무릎도 산출에 영향을 미치는지를 비교했을 때 무릎의 최대외측회전(peak external rotation)각에서 차이를 나타내었다. 첫 번째 분절마커세트의 무릎관절중심정의의 형태변화에 따라 최대외측회전각은 $0.549^{\\circ}$의 차이를 나타냈고, 두 번째 분절마커 세트에서 무릎관절중심정의의 형태변화에 따라 최대외측회전각은 $0.309^{\\circ}$의 차이를 나타냈다. 이와 같이 분절을 나타내는 마커세트와 무릎관절중심정의의 형태변화에 따라 무릎간을 계산하는데 있어서 결과가 다르게 산출되었다. 즉, 관절각의 계산이 분절에 부착되는 마커의 정의 혹은 위치에 매우 민감하게 영향을 받았다. 따라서 연구자가 여러 실험대상자들을 대상으로 실험시 마커세트 혹은 마커들을 동일한 위치에 가깝게 부착하는 것이 마커부착으로부터 발생하는 실험오차를 줄일 수 있을 것이다.                                                                                                                                                                                                                                                                                                                                                                                                                                                                                                                                                                                                                                                                                                                                                                   1\n",
       "Name: count, Length: 917, dtype: int64"
      ]
     },
     "execution_count": 72,
     "metadata": {},
     "output_type": "execute_result"
    }
   ],
   "source": [
    "df['abstracts'].value_counts()"
   ]
  },
  {
   "cell_type": "code",
   "execution_count": 77,
   "id": "4aeb4d0b-8322-47cd-b844-fa07f1ca5f95",
   "metadata": {},
   "outputs": [],
   "source": [
    "df = df.drop_duplicates(['abstracts'])"
   ]
  },
  {
   "cell_type": "markdown",
   "id": "1baa87b6-8d1f-486e-b7a1-68d7b89f963d",
   "metadata": {},
   "source": [
    "* 초록이 없는 데이터 제거"
   ]
  },
  {
   "cell_type": "code",
   "execution_count": 78,
   "id": "e27da9ed-7de0-4cfd-8d79-c18fcc1dd7cf",
   "metadata": {},
   "outputs": [],
   "source": [
    "df = df[df['abstracts'] != '초록이 없습니다.']"
   ]
  },
  {
   "cell_type": "code",
   "execution_count": 79,
   "id": "66f2c77c-8a8a-40fe-89aa-584efb62bca4",
   "metadata": {},
   "outputs": [
    {
     "data": {
      "text/plain": [
       "title\n",
       "한국운동역학회지의 국제화와 SCI-E 등재 방안                                                                                                           1\n",
       "Acute Changes in Fascicle Behavior and Electromyographic Activity of the Medial Gastrocnemius during Walking in High Heeled Shoes    1\n",
       "Effect of Prolonged Running-induced Fatigue on Free-torque Components                                                                1\n",
       "Comparison of Biomechanical Characteristics of Rowing Performance between Elite and Non-Elite Scull Rowers: A Pilot Study            1\n",
       "The Immediate Effects of External Kinesio-tape Wrapping for Inner Arch Support on the Lower Leg EMG for Gait in Stiletto Heels       1\n",
       "                                                                                                                                    ..\n",
       "손 끝 온도변화가 젊은 성인의 다중 손가락 동작에 미치는 효과                                                                                                   1\n",
       "런닝화의 미드솔 경도가 하지 근육의 피로와 충격력에 미치는 영향                                                                                                  1\n",
       "역도 인상동작 불안정성 수준에 따른 발바닥 체성감각요인 분석                                                                                                    1\n",
       "골프스윙 시 지면반력 크기와 시간 차이가 클럽헤드 속도에 미치는 영향                                                                                               1\n",
       "Sensitivity of Marker Set and Knee Joint Centre on Knee Angles during Cutting Movement                                               1\n",
       "Name: count, Length: 916, dtype: int64"
      ]
     },
     "execution_count": 79,
     "metadata": {},
     "output_type": "execute_result"
    }
   ],
   "source": [
    "df['title'].value_counts()"
   ]
  },
  {
   "cell_type": "code",
   "execution_count": 80,
   "id": "3cabed88-8dc1-4803-901d-74dbd1e91026",
   "metadata": {},
   "outputs": [
    {
     "data": {
      "text/plain": [
       "abstracts\n",
       "Korean Journal of Sport Biomechanics(KJSB) is facing down by a great challenge. Following the long-term plan of the Korean Society of Sport Biomechanics, the KJSB has entered a new era in 2010 in the sense that the some papers are published in English. Immense efforts are needed to accomplish the original goal of KJSB becoming an internationally recognized journal. The 2009 Spring International Conference of the KSSB was held in this connection with the subject of the vitalization of the KJSB. A special topic were presented at the Conference and vigorous discussions followed. The Editor-in-Chief of KJSB presented strategies to improve the number of suggestion to the KJSB. The Manager of Thomson Reuter gave a presentation on how KJSB can grow into the SCI-expanded journal. This manuscript is presented on the basis of the presentations and the discussions at the meeting for the purpose of finding the way in aiming the direction of the long-term goal of the KJSB. Other evaluation criteria such as journal self-citation rate. SCI citation rate and SCI impact factor need to modify the score ranges.                                                                                                                                                                                                                                                                                                                                                                                                                                                                                                                                                                                                                                                                                                                                                                                                                                                                                                                                                                                                                                                                                                                                                                                       1\n",
       "Objective: The purpose of this study was to investigate the acute effect of walking on high heels on the behavior of fascicle length and activation of the lower limb muscles.\\nMethods: Twelve healthy inexperienced high heel wearers (age: 23.1 ± 2.0 yr, height: 162.4 ± 4.9 cm, weight: 54.4 ± 8.5 kg) participated in this study. They walked in high heels (7 cm) and barefoot on a treadmill at their preferred speed. During the gait analysis, the lower limb joint kinematics were obtained using a motion analysis system. In addition, the changes in fascicle length and the level of activation of the medial gastrocnemius (MG) were simultaneously monitored using a real-time ultrasound imaging technique and surface electromyography, respectively.\\nResults: The results of this study show that the MG fascicle operates at a significantly shorter length in high heel walking (37.64 ± 8.59 mm to 43.99 ± 8.66 mm) in comparison with barefoot walking (48.26 ± 9.02 mm to 53.99 ± 8.54 mm) (p < .05). In addition, the MG fascicle underwent lengthening during high heel walking with relatively low muscle activation while it remained isometric during barefoot walking with relatively high muscle activation.\\nConclusion: Wearing high heels alters the operating range of the MG fascicle length and the pattern of muscle activation, suggesting that prolonged wearing of high heels might induce structural alterations of the MG that, in turn, hinder normal functioning of the MG muscle during walking.                                                                                                                                                                                                                                                                                                                                                                                                                                                                                                                                                                                                                                                                                                                                                                                            1\n",
       "Purpose: The purpose of this study was to investigate the differences in FT (free-torque) components between non-fatigue and fatigue conditions induced by prolonged running.\\nMethods: Fifteen healthy runners with no previous lower-extremity fractures (22.0 ± 2.1 years of age) participated in this study. Ground reaction force data were collected for the right-stance phase for 10 strides of 5 and 125-min running periods at 1,000 Hz using an instrumented force platform (instrumented dual-belt treadmills, Bertec, USA) while the subjects ran on it. The running speed was set according to the preferences of the subjects, which were determined before the experiment. FT variables were calculated from the components of the moment and force output from the force platform. A repeated-measures one-way ANOVA was used to test for significant differences between the two conditions. The alpha level for all the statistical tests was 0.05.\\nResults: The absolute FT at the peak braking force was significantly greater after 5 mins of running than after 125 mins of running—which was regarded as a fatigued state—but there were no significant differences in the absolute peak FT or impulse between the conditions.\\nConclusion: The FT variables in the fatigue condition during prolonged running hardly affect the tibial stress syndrome.                                                                                                                                                                                                                                                                                                                                                                                                                                                                                                                                                                                                                                                                                                                                                                                                                                                                                                                                                           1\n",
       "Objective: This study aimed to examine the characteristics of joint kinematics and synchronicity of rowing motion between elite and non-elite rowers.\\nMethods: Two elite and two non-elite rowers performed rowing strokes (3 trials, 20 strokes in each trial) at three different stroke rates (20, 30, 40 stroke/min) on two stationary rowing ergometers. The rowing motions of the rowers were captured using a 3-dimensional motion analysis system (8-infrared camera VICON system, Oxford, UK). The range of motion (RoM) of the knee, hip, and elbow joints on the sagittal plane, the lead time (TLead) and the drive time TDrive) for each joint, and the elapsed time for the knee joint to maintain a fully extended position (TKnee) during the stroke were analyzed and compared between elite and non-elite rowers. Synchronicity of the rowing motion within and between groups was examined using coefficients of variation (CV) of the TDrive for each joint.\\nResults: Regardless of the stroke rate, the RoM of all joints were greater for the elite than for non-elite rowers, except for the RoMs of the knee joint at 30 stroke/min and the elbow joint at 40 stroke/min (p < .05). Although the TLead at all stroke rates were the same between the groups, the TDrive for each joint was shorter for the elite than for the non-elite rowers. During the drive phase, elite rowers kept the fully extended knee joint angle longer than the non-elite rowers (p < .05). The CV values of the TDrive within each group were smaller for the elite compared with non-elite rowers, except for the CV values of the hip at all stroke/min and elbow at 40 stroke/min.\\nConclusion: The elite, compared with non-elite, rowers seem to be able to perform more powerful and efficient rowing strokes with large RoM and a short TDrive with the same TLead.                                                                                                                                                                                                                                                                                                                                                                                                                                                          1\n",
       "Purpose: The purpose of this study was to analyze the effects of using external kinesio-tape wrapping for inner arch support on the lower extremity EMG for gait in stiletto heels.\\nMethods: Subjects for this study were two female college students who had been wearing stiletto heels almost every day of the week for more than three years. The independent variable was the presence or absence of kinesio-tape wrap for inner arch support. Dependent variables were EMG readings for the four muscle groups: the medial and lateral gastrocnemius, the tibialis anterior, and the peroneus longus. EMG readings were taken using the NORAXON (USA). The Paired t-test within the subject repeated measure design for the presence and absence of inner arch support (p<0.05) was used via SPSS 18.0.\\nResults: With kinesio-tape wrap for inner arch support, there was a statistically significant decrease in the muscle force mean values for the peroneus longus and the medial and lateral gastrocnemius, in the maximum muscle forces of the peroneus longus and the lateral gastrocnemius.\\nConclusion: External kinesio-tape wrapping for inner arch support in stiletto heels could have an effect to reduce peroneus longus, and medial/lateral gastrocnemius activities that could result in decreased fatigue and discomfort.                                                                                                                                                                                                                                                                                                                                                                                                                                                                                                                                                                                                                                                                                                                                                                                                                                                                                                                                                                                         1\n",
       "                                                                                                                                                                                                                                                                                                                                                                                                                                                                                                                                                                                                                                                                                                                                                                                                                                                                                                                                                                                                                                                                                                                                                                                                                                                                                                                                                                                                                                                                                                                                                                                                                                                                                                                                                                                                                                                                                                                                                                                                                                                                                                                                                                                                                                                                                                                                           ..\n",
       "Objective: This study examined the effects of stimulating fingertip temperature on the patterns of force sharing and stability properties during multi-finger force production tasks. Method: 9 adult subjects (male: 3, female: 6, age: $26.11{\\pm}4.01yrs$, height: $169.22{\\pm}5.97cm$, weight: $61.44{\\pm}11.27kg$) participated in this study. The experiment consisted of three blocks: 1) maximal voluntary contraction (MVC) task, 2) single-finger ramp task to quantify enslaving (i.e., unintended force production by non-task fingers), and 3) 12 trials of multi-finger steady-state force production task at 20% MVC. There were three temperature conditions including body-temperature (i.e., control condition), $40^{\\circ}C$, and $43^{\\circ}C$, and the stimulation was given to the index finger only for all experimental conditions. Results: There were no significant differences in the MVC forces, enslaving, and the accuracy of performance during the steady-state task between the conditions. However, the share of stimulated index finger force increased with the index fingertip temperature, while the share of middle finger force decreased. Also, the coefficient of variation of both index and middle finger forces over repetitive trials increased with the index fingertip temperature. Under the framework of the uncontrolled manifold (UCM) hypothesis used to quantify indices of multi-finger synergies (i.e., stability property) stabilizing total force during the steady-state task, the two variance components within the UCM analysis increased together with the fingertip temperature, while no changes in the synergy indices between the conditions. Conclusion: The current results showed that fingertip temperature stimulation only to index finger does not affect to muscle force production capability of multi-finger, independence of individual fingers, and force production accuracy by the involvement of all four fingers. The effect of fingertip temperature on the sharing pattern and force variation may be due to diffuse reflex effects of the induced afferent activity on alpha-motoneuronal pools. However, the unchanged stability properties may be the reflection of the active error compensation strategies by non-stimulated finger actions.    1\n",
       "Objective: The aim of this study was to investigate the effect of midsole hardness of running shoe on muscle fatigue and impact force during distance running. Method: Ten healthy college recreational runners who were performing distance running at least three times a week participated in this experiment. They were asked to run for 15 minutes in the treadmill at 10 km/h with running shoes having three different types of midsole hardness (Soft, Medium, Hard). EMG signal and insole pressure were collected during the first and last one minute for each running trials. Data were analyzed using a one-way analysis of variance (ANOVA) with repeated measures. Results: Midsole hardness did not affect the consistency of stride length. For the median frequency of the EMG signal, only VL was affected by midsole hardness; that of medium was greater than other midsoles (p<.05). The loading rate of impact forces increased by midsole hardness (p<.01). Conclusion: Although soft midsole could attenuate impact forces at heel contact, it might have a negative effect on the fatigue of muscle which could decelerate the body after heel contact. Therefore, it is necessary to select the optimum hardness of midsole carefully for both reduction impact forces and muscle fatigue.                                                                                                                                                                                                                                                                                                                                                                                                                                                                                                                                                                                                                                                                                                                                                                                                                                                                                                                                                                                                                       1\n",
       "Objective: It is to find factors related to stability through analysis of plantar pressure factors according to the level of instability when performing Snatch.\\nMethod: Foot pressure analysis was performed while 10 weightlifters performed 80% of the highest level of Snatch, and motion was classified and analyzed in 3 grades according to the level of instability.\\nResults: First, in Bad Motion, the movement distance of the pressure center in the direction of ML and AP was larger significantly in Phase 2. Second, in Phase 2, the number of zero-crossing in the AP direction was larger statistically significantly in Good Motion. Third, in the bad motion in Phase 3, the number of zero-crossing in the ML direction showed a significantly larger value. Fourth, in Phase 4, it was found that the more stable the lock out motion, the greater the activity of foot controlling in the left and right directions. Fifth, Phase 3, the greater the Maximum/Mean foot pressure value, the more stable the pulling action. Sixth, in Phase 2, the foot pressure was concentrated with a wide distribution in the midfoot and rearfoot. Seventh, the triggering number of the forefoot region was small in the last pull phase. Eighth, the number of triggers in the toe area was significantly higher during Good Motion in Phase 4.\\nConclusion: Summarizing the factors of instability in Snatch, there was no significant difference in Phase 1 for each condition. In order to enhance the stability in Phase 2, the sensory control ability in the AP direction is required, and focusing the foot pressing motion with a wide distribution in the middle and rear parts increases the instability. In Phase 3, it was found that the more unstable, the more sensory control activity was performed in the ML direction, the stronger the forefoot pressing action should be performed for a stable Snatch. In Phase 4, It is important that the feet sensory control activity in ML directions and the control ability of the toes in order to have stable Lock out motion.                                                                                                                                                                                                                                 1\n",
       "Objective: The purpose of this study was to investigate the influence of clubhead velocity through regression analysis on the magnitude and time difference of the forward-backward, mediolateral, and vertical ground reaction peak forces generated by force plate during golf swing. Method: 16 subjects (age: 20.5±4.2 yrs, height: 176.0±5.4 cm, weight: 77.8±5.9 kg, handy: 2.4±1.7) who is elite golf player in high school and university, participated in this study. The study method adopted three-dimensional analysis with 8 cameras and ground reaction force measurement with two force plate. The analysis variables were clubhead velocity, and ground reaction analysis variables set four events in each graph based on the peak forces commonly generated in Fx, Fy, and Fz graphs of the ground reaction data during the golf swing. Results: As a result of analyzing the influence of ground reaction magnitude difference on clubhead velocity, the influence on clubhead velocity was ym4, zm1, xm4, zm2. The larger ym4, xm4, zm1, the fasterthe clubhead velocity, but the smallerthe zm2, the faster the clubhead velocity. And in time difference, the influence on the clubhead velocity was in the order of xt4, zt1, zt3. The shorter xt4, zt1, zt3 showed faster clubhead velocity. Conclusion: The leftfoot played a leading role in increasing the velocity of the clubhead. Although the result was caused by the interaction of the right foot and the left foot during the swing, the role of the left foot is relatively large.                                                                                                                                                                                                                                                                                                                                                                                                                                                                                                                                                                                                                                                                                                                                                                      1\n",
       "이 연구의 목적은 각 분절의 마커세트와 무릎관절 중심 정의가 3차원 무릎 관절각을 산출하는데 얼마나 민감하게 영향을 미치는지를 연구하였다. 자료수집은 1명을 실험대상자로 하여 두 가지 형태의 각기 다른 분절의 정의와 무릎관절의 중심을 나타내는 반사마커들을 동시에 오른쪽 하지에 부착시켜 실험을 실시하였다. 실험대상자의 달리기동작 중 좌측으로 45도 방향전환동작의 지지기를 분석하였다. 이를 위해서 8대의 고속카메라들을 이용하였고 달리기속도는 4m/$sec{\\pm}(10%)$로 통제하였다. 하지분절의 발분절에는 하나의 마커세트를, 정강이와 대퇴분절에는 두 가지의 다른 마커세트들을 부착시켰다. 발분절에는 3개의 마커를 신발의 뒷부분에 부착하였고 정강이분절을 정의하기 위하여 첫 번째 마커세트는 경골을 중심으로 3개의 마커들을 두 번째 마커세트는 비골을 중심으로 3개의 마커를 부착하였다. 대퇴분절의 마커세트를 정의하기 위하여 첫 번째 마커세트에는 대퇴골을 중심으로 3개의 마커를 두 번째 마커세트에는 대퇴근육을 중심으로 3개의 마커들을 부착하였다. 무릎관절중심을 정의하는데 두 가지 다른 정의가 적용되었다. 첫 번째 무릎중심을 무릎의 내측과 외측의 마커들을 통해 두 마커의 중심을 무릎관절의 중심으로 정의하였다. 두 번째 무릎중심정의는 무릎의 외측부분과 슬개골의 중심에 부착된 마커들로부터의 교차점을 무릎관절중심으로 산출하였다. 무릎관절의 각도를 산출하기 위해서 JCS(Joint Coordinate System)의 정의가 적용되었고 연구의 결과는 다음과 같았다. 두 가지의 다른 분절마커세트 사이에서 무릎의 신전(extension)과 굴곡(flexion)은 유사한 형태를 나타냈으며 최대 무릎굴곡(peak knee flexion)각에서 $4.746^{\\circ}$의 차이를 나타냈다. 다른 분절마커세트 사이의 회전(rotation)각과 내전(adduction)/외전(abduction)에서는 서로 다른 형태를 나타내었고, 두 마커세트간 최대무릎외측회전(peak knee external rotation)각도에서는 $15.628^{\\circ}$의 차이를 나타냈다. 또한, 각 분절마커세트 내에서 두 가지의 다른 무릎관절 중심의 정의가 얼마나 무릎도 산출에 영향을 미치는지를 비교했을 때 무릎의 최대외측회전(peak external rotation)각에서 차이를 나타내었다. 첫 번째 분절마커세트의 무릎관절중심정의의 형태변화에 따라 최대외측회전각은 $0.549^{\\circ}$의 차이를 나타냈고, 두 번째 분절마커 세트에서 무릎관절중심정의의 형태변화에 따라 최대외측회전각은 $0.309^{\\circ}$의 차이를 나타냈다. 이와 같이 분절을 나타내는 마커세트와 무릎관절중심정의의 형태변화에 따라 무릎간을 계산하는데 있어서 결과가 다르게 산출되었다. 즉, 관절각의 계산이 분절에 부착되는 마커의 정의 혹은 위치에 매우 민감하게 영향을 받았다. 따라서 연구자가 여러 실험대상자들을 대상으로 실험시 마커세트 혹은 마커들을 동일한 위치에 가깝게 부착하는 것이 마커부착으로부터 발생하는 실험오차를 줄일 수 있을 것이다.                                                                                                                                                                                                                                                                                                                                                                                                                                                                                                                                                                                                                                                                                                                                                                 1\n",
       "Name: count, Length: 916, dtype: int64"
      ]
     },
     "execution_count": 80,
     "metadata": {},
     "output_type": "execute_result"
    }
   ],
   "source": [
    "df['abstracts'].value_counts()"
   ]
  },
  {
   "cell_type": "code",
   "execution_count": 81,
   "id": "2105a342-1aa9-484b-99d1-2815b37f0963",
   "metadata": {},
   "outputs": [
    {
     "data": {
      "text/plain": [
       "year\n",
       "2016    147\n",
       "2017     99\n",
       "2011     82\n",
       "2019     77\n",
       "2018     68\n",
       "2010     59\n",
       "2020     58\n",
       "2014     55\n",
       "2015     54\n",
       "2001     51\n",
       "2012     49\n",
       "2004     48\n",
       "2013     48\n",
       "2003     47\n",
       "2002     43\n",
       "2021     41\n",
       "2000     37\n",
       "2023     21\n",
       "2022     20\n",
       "2005     18\n",
       "1998     15\n",
       "1997     11\n",
       "1999     10\n",
       "1996      7\n",
       "2009      6\n",
       "2006      6\n",
       "1994      5\n",
       "2024      5\n",
       "1995      2\n",
       "2008      1\n",
       "Name: count, dtype: int64"
      ]
     },
     "execution_count": 81,
     "metadata": {},
     "output_type": "execute_result"
    }
   ],
   "source": [
    "data2['year'].value_counts()"
   ]
  },
  {
   "cell_type": "code",
   "execution_count": 82,
   "id": "ca9f9cad-5e92-4278-a9aa-f6f36a8480cd",
   "metadata": {},
   "outputs": [
    {
     "data": {
      "text/html": [
       "<div>\n",
       "<style scoped>\n",
       "    .dataframe tbody tr th:only-of-type {\n",
       "        vertical-align: middle;\n",
       "    }\n",
       "\n",
       "    .dataframe tbody tr th {\n",
       "        vertical-align: top;\n",
       "    }\n",
       "\n",
       "    .dataframe thead th {\n",
       "        text-align: right;\n",
       "    }\n",
       "</style>\n",
       "<table border=\"1\" class=\"dataframe\">\n",
       "  <thead>\n",
       "    <tr style=\"text-align: right;\">\n",
       "      <th></th>\n",
       "      <th>title</th>\n",
       "      <th>year</th>\n",
       "      <th>journal</th>\n",
       "      <th>abstracts</th>\n",
       "    </tr>\n",
       "  </thead>\n",
       "  <tbody>\n",
       "    <tr>\n",
       "      <th>4</th>\n",
       "      <td>한국운동역학회지의 국제화와 SCI-E 등재 방안</td>\n",
       "      <td>2010</td>\n",
       "      <td>한국운동역학회지</td>\n",
       "      <td>Korean Journal of Sport Biomechanics(KJSB) is ...</td>\n",
       "    </tr>\n",
       "    <tr>\n",
       "      <th>5</th>\n",
       "      <td>스쿼트 동작 시 경사기능전신진동기의 적용이 몸통 및 하지 근 활성도에 미치는 영향</td>\n",
       "      <td>2015</td>\n",
       "      <td>한국운동역학회지</td>\n",
       "      <td>Objective : The purpose of this study was to i...</td>\n",
       "    </tr>\n",
       "    <tr>\n",
       "      <th>6</th>\n",
       "      <td>한국형 봅슬레이화 개발을 위한 구간 시간과 족저압력 분석</td>\n",
       "      <td>2015</td>\n",
       "      <td>한국운동역학회지</td>\n",
       "      <td>Objective : A study and development of Korean ...</td>\n",
       "    </tr>\n",
       "    <tr>\n",
       "      <th>7</th>\n",
       "      <td>보행 시 농작업 종사자들의 슬관절 퇴행성 등급에 따른 지면반력 특성 분석</td>\n",
       "      <td>2015</td>\n",
       "      <td>한국운동역학회지</td>\n",
       "      <td>Objective : This study was conducted with an a...</td>\n",
       "    </tr>\n",
       "    <tr>\n",
       "      <th>8</th>\n",
       "      <td>편평족 중학생의 고관절 교정 운동 프로그램과 발교정구 착용 유무가 안정시 종골기립 ...</td>\n",
       "      <td>2015</td>\n",
       "      <td>한국운동역학회지</td>\n",
       "      <td>Objective : The purpose of this study is to ev...</td>\n",
       "    </tr>\n",
       "    <tr>\n",
       "      <th>...</th>\n",
       "      <td>...</td>\n",
       "      <td>...</td>\n",
       "      <td>...</td>\n",
       "      <td>...</td>\n",
       "    </tr>\n",
       "    <tr>\n",
       "      <th>1966</th>\n",
       "      <td>여중생의 체지방율에 따른 보행 특성 분석</td>\n",
       "      <td>2001</td>\n",
       "      <td>한국운동역학회지</td>\n",
       "      <td>This study is purpose to present the specifica...</td>\n",
       "    </tr>\n",
       "    <tr>\n",
       "      <th>1984</th>\n",
       "      <td>Effects of shoe and landing heights on impact ...</td>\n",
       "      <td>2003</td>\n",
       "      <td>한국운동역학회지</td>\n",
       "      <td>본 연구의 목적은 뛰어 내리기 동작 시 신발과 뛰어 내리는 높이가 지면반력과 충격감...</td>\n",
       "    </tr>\n",
       "    <tr>\n",
       "      <th>1990</th>\n",
       "      <td>REVIEW OF COMPUTATIONAL MODELS FOR FOOTWEAR DE...</td>\n",
       "      <td>2009</td>\n",
       "      <td>한국운동역학회지</td>\n",
       "      <td>Existing footwear biomechanics studies rely on...</td>\n",
       "    </tr>\n",
       "    <tr>\n",
       "      <th>2060</th>\n",
       "      <td>Aging-Related Changes in Hand Intrinsic and Ex...</td>\n",
       "      <td>2015</td>\n",
       "      <td>한국운동역학회지</td>\n",
       "      <td>Object : The purpose of this study was to inve...</td>\n",
       "    </tr>\n",
       "    <tr>\n",
       "      <th>2073</th>\n",
       "      <td>Sensitivity of Marker Set and Knee Joint Centr...</td>\n",
       "      <td>2006</td>\n",
       "      <td>한국운동역학회지</td>\n",
       "      <td>이 연구의 목적은 각 분절의 마커세트와 무릎관절 중심 정의가 3차원 무릎 관절각을 ...</td>\n",
       "    </tr>\n",
       "  </tbody>\n",
       "</table>\n",
       "<p>916 rows × 4 columns</p>\n",
       "</div>"
      ],
      "text/plain": [
       "                                                  title  year   journal  \\\n",
       "4                            한국운동역학회지의 국제화와 SCI-E 등재 방안  2010  한국운동역학회지   \n",
       "5         스쿼트 동작 시 경사기능전신진동기의 적용이 몸통 및 하지 근 활성도에 미치는 영향  2015  한국운동역학회지   \n",
       "6                       한국형 봅슬레이화 개발을 위한 구간 시간과 족저압력 분석  2015  한국운동역학회지   \n",
       "7              보행 시 농작업 종사자들의 슬관절 퇴행성 등급에 따른 지면반력 특성 분석  2015  한국운동역학회지   \n",
       "8     편평족 중학생의 고관절 교정 운동 프로그램과 발교정구 착용 유무가 안정시 종골기립 ...  2015  한국운동역학회지   \n",
       "...                                                 ...   ...       ...   \n",
       "1966                             여중생의 체지방율에 따른 보행 특성 분석  2001  한국운동역학회지   \n",
       "1984  Effects of shoe and landing heights on impact ...  2003  한국운동역학회지   \n",
       "1990  REVIEW OF COMPUTATIONAL MODELS FOR FOOTWEAR DE...  2009  한국운동역학회지   \n",
       "2060  Aging-Related Changes in Hand Intrinsic and Ex...  2015  한국운동역학회지   \n",
       "2073  Sensitivity of Marker Set and Knee Joint Centr...  2006  한국운동역학회지   \n",
       "\n",
       "                                              abstracts  \n",
       "4     Korean Journal of Sport Biomechanics(KJSB) is ...  \n",
       "5     Objective : The purpose of this study was to i...  \n",
       "6     Objective : A study and development of Korean ...  \n",
       "7     Objective : This study was conducted with an a...  \n",
       "8     Objective : The purpose of this study is to ev...  \n",
       "...                                                 ...  \n",
       "1966  This study is purpose to present the specifica...  \n",
       "1984  본 연구의 목적은 뛰어 내리기 동작 시 신발과 뛰어 내리는 높이가 지면반력과 충격감...  \n",
       "1990  Existing footwear biomechanics studies rely on...  \n",
       "2060  Object : The purpose of this study was to inve...  \n",
       "2073  이 연구의 목적은 각 분절의 마커세트와 무릎관절 중심 정의가 3차원 무릎 관절각을 ...  \n",
       "\n",
       "[916 rows x 4 columns]"
      ]
     },
     "execution_count": 82,
     "metadata": {},
     "output_type": "execute_result"
    }
   ],
   "source": [
    "df"
   ]
  },
  {
   "cell_type": "code",
   "execution_count": null,
   "id": "cd81e997-752f-410e-ab8c-9330787d1762",
   "metadata": {},
   "outputs": [],
   "source": []
  }
 ],
 "metadata": {
  "kernelspec": {
   "display_name": "Python 3 (ipykernel)",
   "language": "python",
   "name": "python3"
  },
  "language_info": {
   "codemirror_mode": {
    "name": "ipython",
    "version": 3
   },
   "file_extension": ".py",
   "mimetype": "text/x-python",
   "name": "python",
   "nbconvert_exporter": "python",
   "pygments_lexer": "ipython3",
   "version": "3.9.13"
  }
 },
 "nbformat": 4,
 "nbformat_minor": 5
}
