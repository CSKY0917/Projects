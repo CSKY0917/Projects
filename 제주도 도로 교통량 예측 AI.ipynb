{
 "cells": [
  {
   "cell_type": "markdown",
   "id": "23439f8c",
   "metadata": {},
   "source": [
    "# Import package"
   ]
  },
  {
   "cell_type": "code",
   "execution_count": 1,
   "id": "f54974da",
   "metadata": {},
   "outputs": [
    {
     "data": {
      "text/html": [
       "        <script type=\"text/javascript\">\n",
       "        window.PlotlyConfig = {MathJaxConfig: 'local'};\n",
       "        if (window.MathJax && window.MathJax.Hub && window.MathJax.Hub.Config) {window.MathJax.Hub.Config({SVG: {font: \"STIX-Web\"}});}\n",
       "        if (typeof require !== 'undefined') {\n",
       "        require.undef(\"plotly\");\n",
       "        requirejs.config({\n",
       "            paths: {\n",
       "                'plotly': ['https://cdn.plot.ly/plotly-2.12.1.min']\n",
       "            }\n",
       "        });\n",
       "        require(['plotly'], function(Plotly) {\n",
       "            window._Plotly = Plotly;\n",
       "        });\n",
       "        }\n",
       "        </script>\n",
       "        "
      ]
     },
     "metadata": {},
     "output_type": "display_data"
    },
    {
     "name": "stdout",
     "output_type": "stream",
     "text": [
      "Populating the interactive namespace from numpy and matplotlib\n"
     ]
    }
   ],
   "source": [
    "import requests\n",
    "import xmltodict,json\n",
    "from urllib.parse import urlencode, unquote, quote_plus\n",
    "import re\n",
    "import matplotlib.pyplot as plt\n",
    "from collections import Counter\n",
    "from PIL import Image\n",
    "import seaborn as sns\n",
    "import networkx as nx\n",
    "import os\n",
    "import pandas as pd\n",
    "from sklearn.preprocessing import LabelEncoder\n",
    "import lightgbm as lgb\n",
    "import gc\n",
    "import folium\n",
    "import plotly.graph_objects as go\n",
    "from ipywidgets import interact, interact_manual\n",
    "import ipywidgets as widgets\n",
    "import plotly.express as px\n",
    "import cufflinks as cf\n",
    "cf.go_offline(connected=True)\n",
    "from pandas import DataFrame\n",
    "from sklearn.model_selection import train_test_split\n",
    "from sklearn.metrics import mean_absolute_error\n",
    "from sklearn.feature_selection import f_regression,chi2, SelectKBest\n",
    "from sklearn.model_selection import cross_val_score # 이값이 높은걸 선택하면 됨\n",
    "from sklearn.model_selection import GridSearchCV\n",
    "from sklearn.model_selection import cross_val_predict\n",
    "import category_encoders as ce \n",
    "from sklearn import model_selection\n",
    "from sklearn.preprocessing import StandardScaler\n",
    "from sklearn.neighbors import KNeighborsRegressor\n",
    "from sklearn.linear_model import LogisticRegression\n",
    "from sklearn.ensemble import RandomForestRegressor\n",
    "from lightgbm import LGBMRegressor\n",
    "from sklearn.svm import SVC\n",
    "from xgboost import XGBRegressor\n",
    "from sklearn.ensemble import GradientBoostingRegressor\n",
    "from sklearn.ensemble import ExtraTreesRegressor\n",
    "from sklearn.ensemble import AdaBoostRegressor\n",
    "from sklearn.gaussian_process import GaussianProcessRegressor\n",
    "from sklearn.naive_bayes import GaussianNB\n",
    "from sklearn.ensemble import BaggingRegressor\n",
    "from sklearn.ensemble import VotingRegressor\n",
    "from catboost import CatBoostRegressor\n",
    "from tqdm import tqdm\n",
    "from sklearn.preprocessing import RobustScaler\n",
    "#from tensorflow.keras.utils import to_categorical\n",
    "from category_encoders import OneHotEncoder\n",
    "#from sklearn.feature_selection import chi2, SelectKBest\n",
    "\n",
    "# 결과 확인을 용이하게 하기 위한 코드\n",
    "from IPython.core.interactiveshell import InteractiveShell\n",
    "InteractiveShell.ast_node_interactivity = 'all'\n",
    "%matplotlib inline\n",
    "%pylab inline"
   ]
  },
  {
   "cell_type": "markdown",
   "id": "d0de0f46",
   "metadata": {},
   "source": [
    "# load data"
   ]
  },
  {
   "cell_type": "code",
   "execution_count": 2,
   "id": "d444cc81",
   "metadata": {},
   "outputs": [],
   "source": [
    "train = pd.read_parquet('train.parquet')\n",
    "test = pd.read_parquet('test.parquet')"
   ]
  },
  {
   "cell_type": "markdown",
   "id": "69e08ca9",
   "metadata": {},
   "source": [
    "# One-hot Encoding"
   ]
  },
  {
   "cell_type": "markdown",
   "id": "386a090f",
   "metadata": {},
   "source": [
    "#### 원핫인코딩은 범주형 데이터 (road_name)를 수치형 데이터로 변환하기 위해 사용"
   ]
  },
  {
   "cell_type": "markdown",
   "id": "8d786134",
   "metadata": {},
   "source": [
    "#### train과 test의 road_name 범주가 다르므로 두 데이터를 통합한 뒤 원핫 인코딩을 시도했으나 공모전 주최 측인 DACON에서 Data Leakage에 해당한다 하여 category의 OneHotEncoder 사용 후 진행"
   ]
  },
  {
   "cell_type": "code",
   "execution_count": 3,
   "id": "424021f7",
   "metadata": {},
   "outputs": [],
   "source": [
    "#### OneHotEncoder(use_cat_names = True)는 이전에 있는 column의 이름을 가져오기 위해 사용"
   ]
  },
  {
   "cell_type": "code",
   "execution_count": 4,
   "id": "66b0db5e",
   "metadata": {},
   "outputs": [],
   "source": [
    "encoder = OneHotEncoder(use_cat_names = True)\n",
    "train_onehot = encoder.fit_transform(train[['road_name']])\n",
    "test_onehot = encoder.transform(test[['road_name']])"
   ]
  },
  {
   "cell_type": "code",
   "execution_count": 5,
   "id": "8c483322",
   "metadata": {},
   "outputs": [],
   "source": [
    "train_ohe = pd.concat([train, train_onehot],axis=1)\n",
    "test_ohe = pd.concat([test, test_onehot],axis=1)"
   ]
  },
  {
   "cell_type": "code",
   "execution_count": 6,
   "id": "46d045ff",
   "metadata": {},
   "outputs": [],
   "source": [
    "train_ohe.to_csv('train_ohe.csv', sep=',')\n",
    "test_ohe.to_csv('test_ohe.csv', sep=',')"
   ]
  },
  {
   "cell_type": "markdown",
   "id": "7044c534",
   "metadata": {},
   "source": [
    "#### 메모리에 효율적인 데이터 유형을 사용하여 용량을 크게 줄이고 빠른 작업이 가능한 parquet"
   ]
  },
  {
   "cell_type": "code",
   "execution_count": 7,
   "id": "aab14f5a",
   "metadata": {},
   "outputs": [],
   "source": [
    "def csv_to_parquet(csv_path, save_name):\n",
    "    df = pd.read_csv(csv_path)\n",
    "    df.to_parquet(f'./{save_name}.parquet')\n",
    "    del df\n",
    "    gc.collect()\n",
    "    print(save_name, 'Done.')"
   ]
  },
  {
   "cell_type": "code",
   "execution_count": 8,
   "id": "b2b7ef6b",
   "metadata": {},
   "outputs": [
    {
     "name": "stdout",
     "output_type": "stream",
     "text": [
      "train_ohe Done.\n",
      "test_ohe Done.\n"
     ]
    }
   ],
   "source": [
    "csv_to_parquet('./train_ohe.csv', 'train_ohe')\n",
    "csv_to_parquet('./test_ohe.csv', 'test_ohe')"
   ]
  },
  {
   "cell_type": "code",
   "execution_count": 9,
   "id": "a535146e",
   "metadata": {},
   "outputs": [],
   "source": [
    "train_ohe = pd.read_parquet('./train_ohe.parquet')\n",
    "test_ohe = pd.read_parquet('./test_ohe.parquet')"
   ]
  },
  {
   "cell_type": "code",
   "execution_count": 10,
   "id": "181c779a",
   "metadata": {},
   "outputs": [],
   "source": [
    "train_ohe = train_ohe.drop('Unnamed: 0',axis=1)\n",
    "test_ohe = test_ohe.drop('Unnamed: 0',axis=1)"
   ]
  },
  {
   "cell_type": "code",
   "execution_count": 11,
   "id": "1ca02cfe",
   "metadata": {},
   "outputs": [
    {
     "data": {
      "text/plain": [
       "(4701217, 84)"
      ]
     },
     "execution_count": 11,
     "metadata": {},
     "output_type": "execute_result"
    },
    {
     "data": {
      "text/plain": [
       "(291241, 83)"
      ]
     },
     "execution_count": 11,
     "metadata": {},
     "output_type": "execute_result"
    }
   ],
   "source": [
    "train_ohe.shape\n",
    "test_ohe.shape"
   ]
  },
  {
   "cell_type": "markdown",
   "id": "ec6ad24a",
   "metadata": {},
   "source": [
    "# Label Encoding"
   ]
  },
  {
   "cell_type": "markdown",
   "id": "756fdb2b",
   "metadata": {},
   "source": [
    "#### 범주형 변수를 수치형으로 변환하는 작업 수행\n",
    "* str_col 모두 없음, 있음의 형태를 0,1로 변환"
   ]
  },
  {
   "cell_type": "code",
   "execution_count": 12,
   "id": "ec24c9b6",
   "metadata": {},
   "outputs": [],
   "source": [
    "str_col = ['start_turn_restricted','end_turn_restricted']\n",
    "for i in str_col:\n",
    "    le = LabelEncoder()\n",
    "    le=le.fit(train[i])\n",
    "    train[i]=le.transform(train[i])\n",
    "    \n",
    "    for label in np.unique(test[i]):\n",
    "        if label not in le.classes_: \n",
    "            le.classes_ = np.append(le.classes_, label)\n",
    "    test[i]=le.transform(test[i])"
   ]
  },
  {
   "cell_type": "markdown",
   "id": "60c439ee",
   "metadata": {},
   "source": [
    "# Count Encoding"
   ]
  },
  {
   "cell_type": "markdown",
   "id": "f1c65dab",
   "metadata": {},
   "source": [
    "#### 날짜,시작 정류장, 끝 정류장 모두 범주형 데이터이므로 라벨 인코딩"
   ]
  },
  {
   "cell_type": "code",
   "execution_count": 13,
   "id": "c7f92c5f",
   "metadata": {},
   "outputs": [
    {
     "data": {
      "text/plain": [
       "CountEncoder(cols=['day_of_week', 'start_node_name', 'end_node_name'],\n",
       "             combine_min_nan_groups=True)"
      ]
     },
     "execution_count": 13,
     "metadata": {},
     "output_type": "execute_result"
    }
   ],
   "source": [
    "count_features = ['day_of_week','start_node_name', 'end_node_name']\n",
    "\n",
    "count_encoder = ce.CountEncoder(cols=count_features)\n",
    "count_encoder.fit(train[count_features])\n",
    "\n",
    "train = train.join(count_encoder.transform(train[count_features]).add_suffix('_count'))\n",
    "test = test.join(count_encoder.transform(test[count_features]).add_suffix('_count'))"
   ]
  },
  {
   "cell_type": "code",
   "execution_count": 14,
   "id": "57809536",
   "metadata": {},
   "outputs": [],
   "source": [
    "train['day_of_week_count'] = np.log1p(train['day_of_week_count'])\n",
    "train['start_node_name_count'] = np.log1p(train['start_node_name_count'])\n",
    "train['end_node_name_count'] = np.log1p(train['end_node_name_count'])"
   ]
  },
  {
   "cell_type": "code",
   "execution_count": 15,
   "id": "37961a3f",
   "metadata": {},
   "outputs": [],
   "source": [
    "test['day_of_week_count'] = np.log1p(test['day_of_week_count'])\n",
    "test['start_node_name_count'] = np.log1p(test['start_node_name_count'])\n",
    "test['end_node_name_count'] = np.log1p(test['end_node_name_count'])"
   ]
  },
  {
   "cell_type": "markdown",
   "id": "c34e5b4c",
   "metadata": {},
   "source": [
    "#### start_node_name과 end_node_name을 합쳐 node_name_Combined 라는 새로운 변수를 생성하여 라벨 인코딩을 통해 시작 지점 -> 도착 지점의 경로 라벨 생성"
   ]
  },
  {
   "cell_type": "code",
   "execution_count": 16,
   "id": "1d83001b",
   "metadata": {},
   "outputs": [],
   "source": [
    "from sklearn.preprocessing import LabelEncoder\n",
    "\n",
    "str_col = ['day_of_week','start_turn_restricted','end_turn_restricted','start_node_name', 'end_node_name']\n",
    "for i in str_col:\n",
    "    le = LabelEncoder()\n",
    "    le=le.fit(train[i])\n",
    "    train[i]=le.transform(train[i])\n",
    "    \n",
    "    for label in np.unique(test[i]):\n",
    "        if label not in le.classes_: \n",
    "            le.classes_ = np.append(le.classes_, label)\n",
    "    test[i]=le.transform(test[i])"
   ]
  },
  {
   "cell_type": "code",
   "execution_count": 17,
   "id": "58c7e624",
   "metadata": {},
   "outputs": [],
   "source": [
    "cols = ['start_node_name', 'end_node_name']\n",
    "train['node_name_combined'] = train[cols].apply(lambda row: '->'.join(row.values.astype(str)), axis=1)\n",
    "test['node_name_combined'] = test[cols].apply(lambda row: '->'.join(row.values.astype(str)), axis=1)\n",
    "\n",
    "str_col = ['node_name_combined']\n",
    "for i in str_col:\n",
    "    le = LabelEncoder()\n",
    "    le=le.fit(train[i])\n",
    "    train[i]=le.transform(train[i])\n",
    "    \n",
    "    for label in np.unique(test[i]):\n",
    "        if label not in le.classes_: \n",
    "            le.classes_ = np.append(le.classes_, label)\n",
    "    test[i]=le.transform(test[i])"
   ]
  },
  {
   "cell_type": "markdown",
   "id": "ee28ce9b",
   "metadata": {},
   "source": [
    "## hour rank (시간대 별 평균 속도 변수 생성)"
   ]
  },
  {
   "cell_type": "markdown",
   "id": "4a730531",
   "metadata": {},
   "source": [
    "#### 시간대를 기준으로 그룹화 한 뒤 target 평균 계산 후 내림차순 정렬 후 df 생성, hour_rank 열을 추가하여 순위 부여 후 hour_dict 딕셔너리에 저장"
   ]
  },
  {
   "cell_type": "code",
   "execution_count": 18,
   "id": "cc6e0166",
   "metadata": {},
   "outputs": [],
   "source": [
    "hour_dic = {}\n",
    "df = train.groupby(['base_hour'])['target'].mean().sort_values(ascending=False).to_frame()\n",
    "df['hour_rank'] = [i + 1 for i in range(df.shape[0])] \n",
    "for i in range(df.shape[0]):\n",
    "    hour_dic[df.index[i]] = i+1"
   ]
  },
  {
   "cell_type": "code",
   "execution_count": 19,
   "id": "cc972fee",
   "metadata": {},
   "outputs": [
    {
     "name": "stderr",
     "output_type": "stream",
     "text": [
      "100%|█████████████████████████████████████████████████████████████████████| 4701217/4701217 [00:56<00:00, 82789.33it/s]\n"
     ]
    }
   ],
   "source": [
    "lst = []\n",
    "for i in tqdm(range(len(train))):\n",
    "    h = hour_dic[train['base_hour'][i]]\n",
    "    lst.append(h)\n",
    "train['hour_rank'] = lst"
   ]
  },
  {
   "cell_type": "code",
   "execution_count": 20,
   "id": "cb7b49e9",
   "metadata": {},
   "outputs": [
    {
     "name": "stderr",
     "output_type": "stream",
     "text": [
      "100%|███████████████████████████████████████████████████████████████████████| 291241/291241 [00:03<00:00, 82027.94it/s]\n"
     ]
    }
   ],
   "source": [
    "lst = []\n",
    "for i in tqdm(range(len(test))):\n",
    "    h = hour_dic[test['base_hour'][i]]\n",
    "    lst.append(h)\n",
    "test['hour_rank'] = lst"
   ]
  },
  {
   "cell_type": "markdown",
   "id": "1918854a",
   "metadata": {},
   "source": [
    "## day_of_week rank (요일 별 평균 속도 변수 생성)"
   ]
  },
  {
   "cell_type": "code",
   "execution_count": 21,
   "id": "0400ea11",
   "metadata": {},
   "outputs": [],
   "source": [
    "day_of_week_dic = {}\n",
    "df1 = train.groupby(['day_of_week'])['target'].mean().to_frame()\n",
    "df2 = df1.sort_values(by='target', ascending=False)\n",
    "for i in range(df2.shape[0]):\n",
    "    day_of_week_dic[df2.index[i]] = df2['target'][df2.index[i]]"
   ]
  },
  {
   "cell_type": "code",
   "execution_count": 22,
   "id": "9af05daf",
   "metadata": {},
   "outputs": [
    {
     "name": "stderr",
     "output_type": "stream",
     "text": [
      "100%|█████████████████████████████████████████████████████████████████████| 4701217/4701217 [00:58<00:00, 80818.62it/s]\n"
     ]
    }
   ],
   "source": [
    "from tqdm import tqdm\n",
    "lst = []\n",
    "for i in tqdm(range(len(train))):\n",
    "    h = day_of_week_dic[train['day_of_week'][i]]\n",
    "    lst.append(h)\n",
    "train['day_of_week_rank'] = lst"
   ]
  },
  {
   "cell_type": "code",
   "execution_count": 23,
   "id": "31c7ef28",
   "metadata": {},
   "outputs": [
    {
     "name": "stderr",
     "output_type": "stream",
     "text": [
      "100%|███████████████████████████████████████████████████████████████████████| 291241/291241 [00:03<00:00, 81471.55it/s]\n"
     ]
    }
   ],
   "source": [
    "lst = []\n",
    "for i in tqdm(range(len(test))):\n",
    "    h = day_of_week_dic[test['day_of_week'][i]]\n",
    "    lst.append(h)\n",
    "test['day_of_week_rank'] = lst"
   ]
  },
  {
   "cell_type": "markdown",
   "id": "ca9bc206",
   "metadata": {},
   "source": [
    "## train, test 데이터 생성"
   ]
  },
  {
   "cell_type": "code",
   "execution_count": 24,
   "id": "14866902",
   "metadata": {},
   "outputs": [],
   "source": [
    "data = train_ohe.drop(['id','road_name', 'vehicle_restricted', 'height_restricted', 'start_node_name', 'end_node_name'], axis=1)\n",
    "test2 = test_ohe.drop(['id','road_name', 'vehicle_restricted', 'height_restricted','start_node_name', 'end_node_name'], axis=1)"
   ]
  },
  {
   "cell_type": "code",
   "execution_count": 25,
   "id": "c358553f",
   "metadata": {},
   "outputs": [],
   "source": [
    "d_train = data.drop('target', axis=1)\n",
    "d_test = data[\"target\"]"
   ]
  },
  {
   "cell_type": "markdown",
   "id": "094ab0b7",
   "metadata": {},
   "source": [
    "# data split"
   ]
  },
  {
   "cell_type": "code",
   "execution_count": 28,
   "id": "cecacfde",
   "metadata": {},
   "outputs": [],
   "source": [
    "d_train = data.drop('target', axis=1)\n",
    "d_target = train[\"target\"]"
   ]
  },
  {
   "cell_type": "code",
   "execution_count": 29,
   "id": "e90ccbad",
   "metadata": {},
   "outputs": [
    {
     "data": {
      "text/plain": [
       "(3525912, 77)"
      ]
     },
     "execution_count": 29,
     "metadata": {},
     "output_type": "execute_result"
    },
    {
     "data": {
      "text/plain": [
       "(1175305, 77)"
      ]
     },
     "execution_count": 29,
     "metadata": {},
     "output_type": "execute_result"
    },
    {
     "data": {
      "text/plain": [
       "(3525912,)"
      ]
     },
     "execution_count": 29,
     "metadata": {},
     "output_type": "execute_result"
    },
    {
     "data": {
      "text/plain": [
       "(1175305,)"
      ]
     },
     "execution_count": 29,
     "metadata": {},
     "output_type": "execute_result"
    }
   ],
   "source": [
    "x_train, x_test, y_train, y_test = train_test_split(d_train, d_target, random_state=0)\n",
    "\n",
    "x_train.shape\n",
    "x_test.shape\n",
    "y_train.shape\n",
    "y_test.shape"
   ]
  },
  {
   "cell_type": "markdown",
   "id": "a5febcb3",
   "metadata": {},
   "source": [
    "# Mechine learning"
   ]
  },
  {
   "cell_type": "markdown",
   "id": "a1d13b6f",
   "metadata": {},
   "source": [
    "## k-fold"
   ]
  },
  {
   "cell_type": "code",
   "execution_count": null,
   "id": "04d133f9",
   "metadata": {},
   "outputs": [],
   "source": [
    "kf = KFold(n_splits = 5, shuffle = True, random_state = 2022)"
   ]
  },
  {
   "cell_type": "markdown",
   "id": "03f5b97e",
   "metadata": {},
   "source": [
    "## lgbm"
   ]
  },
  {
   "cell_type": "code",
   "execution_count": null,
   "id": "e5ed2d0c",
   "metadata": {},
   "outputs": [],
   "source": [
    "lgb = LGBMRegressor(n_estimators=1500, random_state=2022, min_child_samples = 50)\n",
    "\n",
    "mae_list = []\n",
    "lgb_pred = np.zeros((d_test.shape[0]))\n",
    "for tr_idx, val_idx in tqdm(kf.split(x_train, y_train)) :\n",
    "    tr_x, tr_y = x_train.iloc[tr_idx], y_train.iloc[tr_idx]\n",
    "    val_x, val_y = x_train.iloc[val_idx], y_train.iloc[val_idx]\n",
    "    \n",
    "    lgb.fit(tr_x, tr_y)\n",
    "    \n",
    "    pred = [0 if x < 0 else x for x in lgb.predict(val_x)]\n",
    "    pred = np.array(pred)\n",
    "    sub_pred = [0 if x < 0 else x for x in lgb.predict(d_test)]\n",
    "    sub_pred = np.array(sub_pred)\n",
    "    mae = mean_absolute_error(val_y, pred)\n",
    "    \n",
    "    mae_list.append(mae)\n",
    "    \n",
    "    lgb_pred += (sub_pred / 5)"
   ]
  },
  {
   "cell_type": "code",
   "execution_count": null,
   "id": "2c949201",
   "metadata": {},
   "outputs": [],
   "source": [
    "np.mean(mae_list)"
   ]
  },
  {
   "cell_type": "markdown",
   "id": "22df78d2",
   "metadata": {},
   "source": [
    "## xgb"
   ]
  },
  {
   "cell_type": "code",
   "execution_count": null,
   "id": "139ea528",
   "metadata": {},
   "outputs": [],
   "source": [
    "XGB = XGBRegressor(max_depth= 4, alpha= 10, n_estimators=100, random_state=42)\n",
    "\n",
    "mae_list = []\n",
    "XGB_pred = np.zeros((x_test.shape[0]))\n",
    "for tr_idx, val_idx in tqdm(kf.split(x_train, y_train)) :\n",
    "    tr_x, tr_y = x_train.iloc[tr_idx], y_train.iloc[tr_idx]\n",
    "    val_x, val_y = x_train.iloc[val_idx], y_train.iloc[val_idx]\n",
    "    \n",
    "    XGB.fit(tr_x, tr_y)\n",
    "    \n",
    "    pred = [0 if x < 0 else x for x in XGB.predict(val_x)]\n",
    "    pred = np.array(pred)\n",
    "    sub_pred = [0 if x < 0 else x for x in XGB.predict(x_test)]\n",
    "    sub_pred = np.array(sub_pred)\n",
    "    mae = mean_absolute_error(val_y, pred)\n",
    "    \n",
    "    mae_list.append(mae)\n",
    "    \n",
    "    lgb_pred += (sub_pred / 5)"
   ]
  },
  {
   "cell_type": "code",
   "execution_count": null,
   "id": "8c64f8b0",
   "metadata": {},
   "outputs": [],
   "source": [
    "np.mean(mae_list)"
   ]
  },
  {
   "cell_type": "markdown",
   "id": "6b428374",
   "metadata": {},
   "source": [
    "## Optuna"
   ]
  },
  {
   "cell_type": "code",
   "execution_count": null,
   "id": "0975280d",
   "metadata": {},
   "outputs": [],
   "source": [
    "import optuna\n",
    "from optuna.samplers import TPESampler"
   ]
  },
  {
   "cell_type": "code",
   "execution_count": null,
   "id": "f372e0b2",
   "metadata": {},
   "outputs": [],
   "source": [
    "lgb_list = []\n",
    "\n",
    "def objective_lgb(trial):\n",
    "    param = {\n",
    "             'n_estimators' : trial.suggest_int('n_estimators', 300, 3500),\n",
    "             'depth' : trial.suggest_int('depth', 6, 14),\n",
    "             'fold_permutation_block' : trial.suggest_int('fold_permutation_block', 1, 256),\n",
    "             'learning_rate' : trial.suggest_float('learning_rate', 0, 1),\n",
    "             'od_pval' : trial.suggest_float('od_pval', 0, 1),\n",
    "             'l2_leaf_reg' : trial.suggest_float('l2_leaf_reg', 0, 4)\n",
    "    }\n",
    "    lgb = LGBMRegressor(**param)\n",
    "    lgb_model = lgb.fit(x_train, y_train, verbose=True)  \n",
    "    \n",
    "    x = x_train\n",
    "    y = y_train\n",
    "\n",
    "    lgbpred = lgb.predict(x_test)\n",
    "    mae = mean_absolute_error(y_test, lgbpred)\n",
    "    lgb_list.append(mae)\n",
    "    \n",
    "    return cat_list"
   ]
  },
  {
   "cell_type": "code",
   "execution_count": null,
   "id": "59aca696",
   "metadata": {},
   "outputs": [],
   "source": [
    "sampler = TPESampler(seed=2022)\n",
    "study2 = optuna.create_study(\n",
    "    study_name=\"lgb_optimizer\",\n",
    "    direction=\"minimize\",\n",
    "    sampler=sampler,\n",
    ")\n",
    "study2.optimize(objective_lgb, n_trials= 5)\n",
    "print(\"Best Score:\", study2.best_value)\n",
    "print(\"Best trial:\", study2.best_trial.params)"
   ]
  },
  {
   "cell_type": "markdown",
   "id": "381f124a",
   "metadata": {},
   "source": [
    "#### Optuna를 통해 알게된 최적의 하이퍼파라미터로 lgb 모델링"
   ]
  },
  {
   "cell_type": "code",
   "execution_count": null,
   "id": "30e3633f",
   "metadata": {},
   "outputs": [],
   "source": [
    "lgb = LGBMRegressor(n_estimators= 329,\n",
    "                    depth= 10, \n",
    "                    fold_permutation_block= 30,\n",
    "                    learning_rate= 0.049974018177630475,\n",
    "                    od_pval= 0.6854075942430917, \n",
    "                    l2_leaf_reg= 1.9479522728629215\n",
    "                    ).fit(x_train, y_train)\n",
    "pred = lgb.predict(x_test)\n",
    "\n",
    "print(\"훈련 세트 정확도 : {:.3f}\".format(cat.score(x_train,y_train)))\n",
    "print(\"테스트 세트 정확도 : {:.3f}\".format(cat.score(x_test,y_test)))"
   ]
  },
  {
   "cell_type": "code",
   "execution_count": null,
   "id": "3694c808",
   "metadata": {},
   "outputs": [],
   "source": [
    "mean_absolute_error(y_test,pred)"
   ]
  },
  {
   "cell_type": "markdown",
   "id": "11a682bc",
   "metadata": {},
   "source": [
    "## Pycaret"
   ]
  },
  {
   "cell_type": "code",
   "execution_count": null,
   "id": "99a92105",
   "metadata": {},
   "outputs": [],
   "source": [
    "train = pd.concat([x_train,y_train],axis = 1)"
   ]
  },
  {
   "cell_type": "code",
   "execution_count": null,
   "id": "55ff3e8a",
   "metadata": {},
   "outputs": [],
   "source": [
    "from pycaret.regression import *\n",
    "train = setup(data=train, target='target')"
   ]
  },
  {
   "cell_type": "markdown",
   "id": "e1066cd4",
   "metadata": {},
   "source": [
    "#### 여러 모델을 적합하여 성능 비교 (MAE 기준)"
   ]
  },
  {
   "cell_type": "code",
   "execution_count": null,
   "id": "6825e943",
   "metadata": {},
   "outputs": [],
   "source": [
    "top4 = compare_models(sort='MAE')"
   ]
  },
  {
   "cell_type": "markdown",
   "id": "81c5ec9f",
   "metadata": {},
   "source": [
    "#### tune_model : 모델의 하이퍼파라미터 튜닝"
   ]
  },
  {
   "cell_type": "code",
   "execution_count": null,
   "id": "51f3a767",
   "metadata": {},
   "outputs": [],
   "source": [
    "tuned_top4 = [tune_model(i) for i in top4]"
   ]
  },
  {
   "cell_type": "markdown",
   "id": "b3c2eeab",
   "metadata": {},
   "source": [
    "#### blend_models : 여러 모델들을 혼합하여 새로운 모델 생성 가능"
   ]
  },
  {
   "cell_type": "code",
   "execution_count": null,
   "id": "4f6a2bff",
   "metadata": {},
   "outputs": [],
   "source": [
    "blender_top4 = blend_models(estimator_list=tuned_top4)"
   ]
  },
  {
   "cell_type": "markdown",
   "id": "7143184f",
   "metadata": {},
   "source": [
    "#### finalize_model : cross_validation을 사용하여 적합한 모델을 전체 데이터로 마지막 학습, 마지막 모델 설정 후 predict_model을 통해 예측"
   ]
  },
  {
   "cell_type": "code",
   "execution_count": null,
   "id": "da927ef9",
   "metadata": {},
   "outputs": [],
   "source": [
    "final_model = finalize_model(blender_top4)\n",
    "prediction = predict_model(final_model, data=test)"
   ]
  },
  {
   "cell_type": "markdown",
   "id": "6bc73311",
   "metadata": {},
   "source": [
    "## 제출"
   ]
  },
  {
   "cell_type": "code",
   "execution_count": null,
   "id": "7aed1b57",
   "metadata": {},
   "outputs": [],
   "source": [
    "sample_submission['target'] = lgb_pred\n",
    "sample_submission.to_csv(\"./submit.csv\", index = False)\n",
    "sample_submission"
   ]
  }
 ],
 "metadata": {
  "kernelspec": {
   "display_name": "Python 3 (ipykernel)",
   "language": "python",
   "name": "python3"
  },
  "language_info": {
   "codemirror_mode": {
    "name": "ipython",
    "version": 3
   },
   "file_extension": ".py",
   "mimetype": "text/x-python",
   "name": "python",
   "nbconvert_exporter": "python",
   "pygments_lexer": "ipython3",
   "version": "3.9.13"
  },
  "toc": {
   "base_numbering": 1,
   "nav_menu": {},
   "number_sections": true,
   "sideBar": true,
   "skip_h1_title": false,
   "title_cell": "Table of Contents",
   "title_sidebar": "Contents",
   "toc_cell": false,
   "toc_position": {
    "height": "calc(100% - 180px)",
    "left": "10px",
    "top": "150px",
    "width": "165px"
   },
   "toc_section_display": true,
   "toc_window_display": true
  },
  "varInspector": {
   "cols": {
    "lenName": 16,
    "lenType": 16,
    "lenVar": 40
   },
   "kernels_config": {
    "python": {
     "delete_cmd_postfix": "",
     "delete_cmd_prefix": "del ",
     "library": "var_list.py",
     "varRefreshCmd": "print(var_dic_list())"
    },
    "r": {
     "delete_cmd_postfix": ") ",
     "delete_cmd_prefix": "rm(",
     "library": "var_list.r",
     "varRefreshCmd": "cat(var_dic_list()) "
    }
   },
   "types_to_exclude": [
    "module",
    "function",
    "builtin_function_or_method",
    "instance",
    "_Feature"
   ],
   "window_display": false
  }
 },
 "nbformat": 4,
 "nbformat_minor": 5
}
