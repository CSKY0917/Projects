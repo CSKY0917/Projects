{
 "cells": [
  {
   "cell_type": "code",
   "execution_count": 9,
   "id": "f7291575-05f4-4835-806d-d9760e36c5fd",
   "metadata": {},
   "outputs": [
    {
     "name": "stdout",
     "output_type": "stream",
     "text": [
      "0\n",
      "https://scholar.google.co.kr/scholar?start=0&q=한국운동역학회&hl=ko&as_sdt=0,5\n",
      "<Response [429]>\n",
      "10\n",
      "https://scholar.google.co.kr/scholar?start=10&q=한국운동역학회&hl=ko&as_sdt=0,5\n",
      "<Response [429]>\n",
      "20\n",
      "https://scholar.google.co.kr/scholar?start=20&q=한국운동역학회&hl=ko&as_sdt=0,5\n",
      "<Response [429]>\n",
      "30\n",
      "https://scholar.google.co.kr/scholar?start=30&q=한국운동역학회&hl=ko&as_sdt=0,5\n",
      "<Response [429]>\n",
      "40\n",
      "https://scholar.google.co.kr/scholar?start=40&q=한국운동역학회&hl=ko&as_sdt=0,5\n",
      "<Response [429]>\n",
      "50\n",
      "https://scholar.google.co.kr/scholar?start=50&q=한국운동역학회&hl=ko&as_sdt=0,5\n",
      "<Response [429]>\n",
      "60\n",
      "https://scholar.google.co.kr/scholar?start=60&q=한국운동역학회&hl=ko&as_sdt=0,5\n",
      "<Response [429]>\n",
      "70\n",
      "https://scholar.google.co.kr/scholar?start=70&q=한국운동역학회&hl=ko&as_sdt=0,5\n",
      "<Response [429]>\n",
      "80\n",
      "https://scholar.google.co.kr/scholar?start=80&q=한국운동역학회&hl=ko&as_sdt=0,5\n",
      "<Response [429]>\n",
      "90\n",
      "https://scholar.google.co.kr/scholar?start=90&q=한국운동역학회&hl=ko&as_sdt=0,5\n",
      "<Response [429]>\n"
     ]
    }
   ],
   "source": [
    "import requests\n",
    "import lxml\n",
    "from bs4 import BeautifulSoup\n",
    "from xlwt import *\n",
    "\n",
    "#Table Initialization\n",
    "paperlist = Workbook(encoding = 'utf-8')\n",
    "table = paperlist.add_sheet('data')\n",
    "table.write(0, 0, 'Title')\n",
    "table.write(0, 1, 'year')\n",
    "table.write(0, 2, 'abstract')\n",
    "line = 1\n",
    "\n",
    "#Scrape paper\n",
    "keyword = \"한국운동역학회\"\n",
    "\n",
    "for start in range(0,91,10):\n",
    "    print(start)\n",
    "    url = \"https://scholar.google.co.kr/scholar?start=\"+str(start)+\"&q=\"+keyword+\"&hl=ko&as_sdt=0,5\"\n",
    "    print(url)\n",
    "    headers = {\n",
    "      'User-Agent': 'Mozilla/5.0 (Windows NT 6.1; WOW64) AppleWebKit/537.36 (KHTML, like Gecko) Chrome/63.0.3239.132 Safari/537.36 QIHU 360SE'\n",
    "    }\n",
    "    f = requests.get(url)\n",
    "    soup = BeautifulSoup(f.content, 'lxml')\n",
    "    paperTags = soup.find_all(\"div\",{\n",
    "       'class': 'gs_rt gs_a gs_rs gs_ri'\n",
    "     })\n",
    "    print(f)\n",
    "    for anchor in paperTags:\n",
    "        print(\"paper\")\n",
    "        paper = anchor.find_next(\"div\", {\n",
    "            'class': 'gs_ri'\n",
    "        })\n",
    "        title = paper.find_next(\"h3\").get_text()\n",
    "        year = paper.find_next(\"div\",{'class': 'gs_a'}).get_text()\n",
    "        abstract = paper.find_next(\"div\").get_text()\n",
    "    \n",
    "        print(title)\n",
    "        print(year)\n",
    "        print(abstract)\n",
    "        table.write(line, 0, title)\n",
    "        table.write(line, 1, year)\n",
    "        table.write(line, 2, abstract)\n",
    "        line += 1\n",
    "        print(paperlist)\n",
    "\n",
    "paperlist.save('한국운동역학회1_10.xlsx')"
   ]
  },
  {
   "cell_type": "markdown",
   "id": "e79fb446-7f6c-4beb-9d34-98b148a27edc",
   "metadata": {},
   "source": [
    "* 100페이지 까지 했을때 response 429로 너무 많은 요청 보냄으로 거절\n",
    "* 혹시 모르니 50페이지씩 2로 나눠 크롤링 예정 -> 이었으나 아직 거절인 상태 추후 10개의 페이지로 나눠서 크롤링 예정"
   ]
  },
  {
   "cell_type": "code",
   "execution_count": null,
   "id": "286393f5-2864-4d1a-8865-f49a8d158f8a",
   "metadata": {},
   "outputs": [],
   "source": []
  }
 ],
 "metadata": {
  "kernelspec": {
   "display_name": "Python 3 (ipykernel)",
   "language": "python",
   "name": "python3"
  },
  "language_info": {
   "codemirror_mode": {
    "name": "ipython",
    "version": 3
   },
   "file_extension": ".py",
   "mimetype": "text/x-python",
   "name": "python",
   "nbconvert_exporter": "python",
   "pygments_lexer": "ipython3",
   "version": "3.11.7"
  }
 },
 "nbformat": 4,
 "nbformat_minor": 5
}
